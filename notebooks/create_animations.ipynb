{
 "cells": [
  {
   "cell_type": "markdown",
   "id": "9c10ed7f",
   "metadata": {},
   "source": [
    "# Creating animations\n",
    "\n",
    "While the ```microplot``` module allows one to create single-frame multi-channel images with annotations, the ```microanim``` module allows one to create interactive plots and save animations of time-lapse versions of such plots. Both modules use an almost identical set of options to render the images and add annotations. "
   ]
  },
  {
   "cell_type": "code",
   "execution_count": 1,
   "id": "a32d0ada-0cf6-4e4a-b236-499471382001",
   "metadata": {},
   "outputs": [],
   "source": [
    "#%load_ext autoreload\n",
    "#%autoreload 2"
   ]
  },
  {
   "cell_type": "markdown",
   "id": "cf0bc2d1",
   "metadata": {},
   "source": [
    "## Dataset\n",
    "\n",
    "To create an animation, you need a dataset containing multiple frames. As dataset, you can either use a Numpy array with shape CTXY or use one of the ```dataset``` classes. We start with the simplest case of an array and load a complete stack that we reshape:"
   ]
  },
  {
   "cell_type": "code",
   "execution_count": 2,
   "id": "b419186f-9bd0-4028-858c-1a4ad21e4a25",
   "metadata": {
    "tags": [
     "thebe-init"
    ]
   },
   "outputs": [],
   "source": [
    "import matplotlib.pyplot as plt\n",
    "import numpy as np\n",
    "import skimage.io"
   ]
  },
  {
   "cell_type": "code",
   "execution_count": 3,
   "id": "627acb2a",
   "metadata": {
    "tags": [
     "thebe-init"
    ]
   },
   "outputs": [],
   "source": [
    "image = skimage.io.imread('../demodata/coli_nucl_ori_ter.tif')"
   ]
  },
  {
   "cell_type": "markdown",
   "id": "e7753beb",
   "metadata": {},
   "source": [
    "## Create the animation object\n",
    "\n",
    "Now we can use default settings to create an animation object. For that we only need the dataset, here in the form of a Numpy array. **If you use such a Numpy array, by default all channels are plotted. If you don't want that either create a dataset object (see later) or slice your array**.\n",
    "\n",
    "We will have access to some interactivity to scroll through the frames. So before we start we need to activate Matplotlib's interactive widget mode:"
   ]
  },
  {
   "cell_type": "code",
   "execution_count": 4,
   "id": "d1289760",
   "metadata": {
    "tags": [
     "thebe-init"
    ]
   },
   "outputs": [],
   "source": [
    "%matplotlib widget"
   ]
  },
  {
   "cell_type": "code",
   "execution_count": 5,
   "id": "7d594d83",
   "metadata": {
    "tags": [
     "thebe-init"
    ]
   },
   "outputs": [],
   "source": [
    "from microfilm.microanim import Microanim"
   ]
  },
  {
   "cell_type": "code",
   "execution_count": 6,
   "id": "26308894",
   "metadata": {},
   "outputs": [
    {
     "data": {
      "text/plain": [
       "(3, 30, 220, 169)"
      ]
     },
     "execution_count": 6,
     "metadata": {},
     "output_type": "execute_result"
    }
   ],
   "source": [
    "image.shape"
   ]
  },
  {
   "cell_type": "markdown",
   "id": "d20efdf1",
   "metadata": {},
   "source": [
    "Now we can create the animation object. The animation object takes the same arguments as the ```Microimage``` object. The main difference is that you need to provide in addition a ```data``` parameter which represents your time-lapse images. The ```data``` can be either one of the ```microfilm.dataset``` objects or a simple Numpy array with dimensions ```C x Z x X x Y``` like ```image``` used here:"
   ]
  },
  {
   "cell_type": "code",
   "execution_count": 7,
   "id": "b0cd1b2d",
   "metadata": {
    "tags": [
     "thebe-init"
    ]
   },
   "outputs": [],
   "source": [
    "anim = Microanim(data=image, cmaps=['pure_blue','pure_red', 'pure_green'])"
   ]
  },
  {
   "cell_type": "markdown",
   "id": "c97e37bf",
   "metadata": {},
   "source": [
    "## Interactive object\n",
    "\n",
    "To display our time-lapse image and browse through it, we the simply call the ```ui``` of the object:"
   ]
  },
  {
   "cell_type": "code",
   "execution_count": 8,
   "id": "c4aba78e",
   "metadata": {
    "tags": [
     "thebe-init",
     "hide-output"
    ]
   },
   "outputs": [
    {
     "data": {
      "application/vnd.jupyter.widget-view+json": {
       "model_id": "a3b994ba32604be1a107cead16aab657",
       "version_major": 2,
       "version_minor": 0
      },
      "text/plain": [
       "VBox(children=(Output(outputs=({'output_type': 'display_data', 'data': {'text/plain': \"Canvas(toolbar=Toolbar(…"
      ]
     },
     "metadata": {},
     "output_type": "display_data"
    }
   ],
   "source": [
    "anim.ui"
   ]
  },
  {
   "cell_type": "code",
   "execution_count": 9,
   "id": "9fc5999b-f7ea-4dbf-bfba-0ad5a22d90fd",
   "metadata": {
    "tags": [
     "hide_input",
     "hide-input"
    ]
   },
   "outputs": [
    {
     "data": {
      "text/html": [
       "<img src=\"https://github.com/guiwitz/microfilm/raw/master/illustrations/create_animations_1.gif\" width=\"300\"/>"
      ],
      "text/plain": [
       "<IPython.core.display.Image object>"
      ]
     },
     "execution_count": 9,
     "metadata": {},
     "output_type": "execute_result"
    }
   ],
   "source": [
    "from IPython.display import Image\n",
    "Image(url='https://github.com/guiwitz/microfilm/raw/master/illustrations/create_animations_1.gif',width=300)"
   ]
  },
  {
   "cell_type": "markdown",
   "id": "f71cb42f",
   "metadata": {},
   "source": [
    "## Customizing the plot\n",
    "\n",
    "As mentioned before, you have access to almost all options that you can use in ```microshow``` for the animation. Here's an example where we add a scale bar, a label and adjust the plot size:"
   ]
  },
  {
   "cell_type": "code",
   "execution_count": 10,
   "id": "7a8e4646",
   "metadata": {
    "tags": [
     "hide-output"
    ]
   },
   "outputs": [
    {
     "data": {
      "application/vnd.jupyter.widget-view+json": {
       "model_id": "fc7fb18072554a58872d1e52e883765c",
       "version_major": 2,
       "version_minor": 0
      },
      "text/plain": [
       "VBox(children=(Output(), IntSlider(value=0, description='Time', max=29)))"
      ]
     },
     "metadata": {},
     "output_type": "display_data"
    }
   ],
   "source": [
    "anim = Microanim(\n",
    "    data=image,\n",
    "    cmaps=['pure_blue','pure_red', 'pure_green'], label_text='A',\n",
    "    unit='um', scalebar_size_in_units=4, scalebar_unit_per_pix=0.065, fig_scaling=1)\n",
    "\n",
    "anim.ui"
   ]
  },
  {
   "cell_type": "code",
   "execution_count": 11,
   "id": "da13bbb8-e008-4de0-8fcd-f8963ea8ff00",
   "metadata": {
    "tags": [
     "hide_input"
    ]
   },
   "outputs": [
    {
     "data": {
      "text/html": [
       "<img src=\"https://github.com/guiwitz/microfilm/raw/master/illustrations/create_animations_2.png\" width=\"300\"/>"
      ],
      "text/plain": [
       "<IPython.core.display.Image object>"
      ]
     },
     "execution_count": 11,
     "metadata": {},
     "output_type": "execute_result"
    }
   ],
   "source": [
    "Image(url='https://github.com/guiwitz/microfilm/raw/master/illustrations/create_animations_2.png',width=300)"
   ]
  },
  {
   "cell_type": "markdown",
   "id": "e3727f68",
   "metadata": {},
   "source": [
    "### Access to microim\n",
    "\n",
    "As the animation object is very similar to the simple plot object, you get also access to the same underlying methods e.g. to add a label:"
   ]
  },
  {
   "cell_type": "code",
   "execution_count": 12,
   "id": "dc82a734",
   "metadata": {
    "tags": [
     "hide-output"
    ]
   },
   "outputs": [
    {
     "data": {
      "application/vnd.jupyter.widget-view+json": {
       "model_id": "fc7fb18072554a58872d1e52e883765c",
       "version_major": 2,
       "version_minor": 0
      },
      "text/plain": [
       "VBox(children=(Output(outputs=({'output_type': 'display_data', 'data': {'text/plain': \"Canvas(toolbar=Toolbar(…"
      ]
     },
     "metadata": {},
     "output_type": "display_data"
    }
   ],
   "source": [
    "anim.add_label('comment', label_location='upper right', label_font_size=7);\n",
    "anim.ui"
   ]
  },
  {
   "cell_type": "code",
   "execution_count": 13,
   "id": "23308638-4e91-4c2b-a4bf-dd769460ed12",
   "metadata": {
    "tags": [
     "hide_input"
    ]
   },
   "outputs": [
    {
     "data": {
      "text/html": [
       "<img src=\"https://github.com/guiwitz/microfilm/raw/master/illustrations/create_animations_3.png\" width=\"300\"/>"
      ],
      "text/plain": [
       "<IPython.core.display.Image object>"
      ]
     },
     "execution_count": 13,
     "metadata": {},
     "output_type": "execute_result"
    }
   ],
   "source": [
    "Image(url='https://github.com/guiwitz/microfilm/raw/master/illustrations/create_animations_3.png',width=300)"
   ]
  },
  {
   "cell_type": "markdown",
   "id": "fe00c3ac",
   "metadata": {},
   "source": [
    "And again, you also get access to the underlying Matplotlib objects like axis:"
   ]
  },
  {
   "cell_type": "code",
   "execution_count": 14,
   "id": "64cf4507",
   "metadata": {
    "tags": [
     "hide-output"
    ]
   },
   "outputs": [
    {
     "data": {
      "application/vnd.jupyter.widget-view+json": {
       "model_id": "fc7fb18072554a58872d1e52e883765c",
       "version_major": 2,
       "version_minor": 0
      },
      "text/plain": [
       "VBox(children=(Output(outputs=({'output_type': 'display_data', 'data': {'text/plain': \"Canvas(toolbar=Toolbar(…"
      ]
     },
     "metadata": {},
     "output_type": "display_data"
    }
   ],
   "source": [
    "anim.ax.set_aspect(0.7)\n",
    "anim.ui"
   ]
  },
  {
   "cell_type": "code",
   "execution_count": 15,
   "id": "a677f180-6243-49f3-8c55-7e92422aae0e",
   "metadata": {
    "tags": [
     "hide_input"
    ]
   },
   "outputs": [
    {
     "data": {
      "text/html": [
       "<img src=\"https://github.com/guiwitz/microfilm/raw/master/illustrations/create_animations_4.png\" width=\"300\"/>"
      ],
      "text/plain": [
       "<IPython.core.display.Image object>"
      ]
     },
     "execution_count": 15,
     "metadata": {},
     "output_type": "execute_result"
    }
   ],
   "source": [
    "Image(url='https://github.com/guiwitz/microfilm/raw/master/illustrations/create_animations_4.png',width=300)"
   ]
  },
  {
   "cell_type": "markdown",
   "id": "010148f7",
   "metadata": {},
   "source": [
    "## Adding a time-stamp\n",
    "\n",
    "As a specific feature for animations, you can add a specific label which is a time stamp. At the moment you are limited to use a ```HH:MM:SS``` format. To add it to your plot, you just specify the unit (e.g. ```T``` for minutes, abbreviations are from Pandas), and the number of units per time frame e.g. here 5min:"
   ]
  },
  {
   "cell_type": "code",
   "execution_count": 16,
   "id": "03407c4d",
   "metadata": {
    "tags": [
     "hide-output"
    ]
   },
   "outputs": [
    {
     "data": {
      "application/vnd.jupyter.widget-view+json": {
       "model_id": "656f89f6343d47b1961c672be3ebb31f",
       "version_major": 2,
       "version_minor": 0
      },
      "text/plain": [
       "VBox(children=(Output(), IntSlider(value=0, description='Time', max=29)))"
      ]
     },
     "metadata": {},
     "output_type": "display_data"
    }
   ],
   "source": [
    "anim = Microanim(data=image, cmaps=['pure_blue','pure_red', 'pure_green'],\n",
    "                unit='um', scalebar_size_in_units=4, scalebar_unit_per_pix=0.065, fig_scaling=3)\n",
    "anim.add_time_stamp('T', 10, location='lower left')\n",
    "anim.ui"
   ]
  },
  {
   "cell_type": "code",
   "execution_count": 17,
   "id": "bf7a19c7-10c7-4b39-a63c-3217551ad347",
   "metadata": {
    "tags": [
     "hide-input"
    ]
   },
   "outputs": [
    {
     "data": {
      "text/html": [
       "<img src=\"https://github.com/guiwitz/microfilm/raw/master/illustrations/create_animations_5.gif\" width=\"300\"/>"
      ],
      "text/plain": [
       "<IPython.core.display.Image object>"
      ]
     },
     "execution_count": 17,
     "metadata": {},
     "output_type": "execute_result"
    }
   ],
   "source": [
    "Image(url='https://github.com/guiwitz/microfilm/raw/master/illustrations/create_animations_5.gif',width=300)"
   ]
  },
  {
   "cell_type": "markdown",
   "id": "1a4945ac",
   "metadata": {},
   "source": [
    "Just like for regular plots, you may want to create animations with multiple panels. This is done in the same way as for figures, by assembling pre-made single animations. Find more information in [this section](create_panels.ipynb)."
   ]
  },
  {
   "cell_type": "markdown",
   "id": "ef56544b",
   "metadata": {},
   "source": [
    "## Exporting the animation\n",
    "\n",
    "Once you are satisfied with your movie, you may want to export it to integrate it e.g. in a presentation. You can do that easily using the ```save_movie``` method. You can specify the image quality and the frames per second for various movie formats (.mov, .avi, .mpg, .mpeg, .mp4, .mkv, .wmv) and the image format is simply recovered from the file name. You can also export as gif, but don't have access to the ```quality``` option there:"
   ]
  },
  {
   "cell_type": "code",
   "execution_count": 18,
   "id": "885eec25",
   "metadata": {},
   "outputs": [
    {
     "name": "stderr",
     "output_type": "stream",
     "text": [
      "[WARNING: _io: 411 2021-07-09 01:12:44,106] IMAGEIO FFMPEG_WRITER WARNING: input image is not divisible by macro_block_size=16, resizing from (165, 216) to (176, 224) to ensure video compatibility with most codecs and players. To prevent resizing, make your input image divisible by the macro_block_size or set the macro_block_size to 1 (risking incompatibility).\n"
     ]
    }
   ],
   "source": [
    "anim.save_movie('movie.mp4', fps=15, quality=5)"
   ]
  },
  {
   "cell_type": "code",
   "execution_count": 19,
   "id": "0d2fe97c",
   "metadata": {},
   "outputs": [],
   "source": [
    "anim.save_movie('movie.gif', fps=15)"
   ]
  },
  {
   "cell_type": "markdown",
   "id": "92b66340",
   "metadata": {},
   "source": [
    "## Using the dataset class\n",
    "\n",
    "Instead of a plain Numpy array you can pass one of the ```dataset``` objects to the animation constructor. You have here the additional flexibility of choosing which channels to plot for example. Also, if you deal with large images, it is favorable to use a format such as H5 where not the full dataset is loaded into memory.\n",
    "\n",
    "We keep our simple example, and transform our Numpy array into a ```dataset```. We can specify a name for each channel. Here again, the array format **has to be CTXY**."
   ]
  },
  {
   "cell_type": "code",
   "execution_count": 20,
   "id": "4d98a88d",
   "metadata": {},
   "outputs": [],
   "source": [
    "from microfilm.dataset import Nparray\n",
    "\n",
    "data = Nparray(nparray=image, channel_name=['nucleoid', 'ori', 'ter'])"
   ]
  },
  {
   "cell_type": "markdown",
   "id": "3e1c4b7a",
   "metadata": {},
   "source": [
    "Now we can explicitly specify which channels to plot. For example if you just want a two channels:"
   ]
  },
  {
   "cell_type": "code",
   "execution_count": 21,
   "id": "d7b7b41f",
   "metadata": {},
   "outputs": [],
   "source": [
    "anim = Microanim(data=data, channels=['nucleoid','ori'], cmaps=['pure_red','pure_green'],\n",
    "                unit='um', scalebar_size_in_units=4, scalebar_unit_per_pix=0.065, fig_scaling=5)\n",
    "anim.add_label('A')\n",
    "anim.add_time_stamp('T', 10, location='lower left')"
   ]
  },
  {
   "cell_type": "code",
   "execution_count": 22,
   "id": "573cfa53",
   "metadata": {
    "tags": [
     "hide-output"
    ]
   },
   "outputs": [
    {
     "data": {
      "application/vnd.jupyter.widget-view+json": {
       "model_id": "d6d1469b667b47238d38a6ac73c833dc",
       "version_major": 2,
       "version_minor": 0
      },
      "text/plain": [
       "VBox(children=(Output(outputs=({'output_type': 'display_data', 'data': {'text/plain': \"Canvas(toolbar=Toolbar(…"
      ]
     },
     "metadata": {},
     "output_type": "display_data"
    }
   ],
   "source": [
    "anim.ui"
   ]
  },
  {
   "cell_type": "code",
   "execution_count": 23,
   "id": "eff62340",
   "metadata": {
    "tags": [
     "hide_input"
    ]
   },
   "outputs": [
    {
     "data": {
      "text/html": [
       "<img src=\"https://github.com/guiwitz/microfilm/raw/master/illustrations/create_animations_6.png\" width=\"450\"/>"
      ],
      "text/plain": [
       "<IPython.core.display.Image object>"
      ]
     },
     "execution_count": 23,
     "metadata": {},
     "output_type": "execute_result"
    }
   ],
   "source": [
    "Image(url='https://github.com/guiwitz/microfilm/raw/master/illustrations/create_animations_6.png',width=450)"
   ]
  },
  {
   "cell_type": "code",
   "execution_count": null,
   "id": "87b1d5e2-fc22-489e-87f5-b48d224f1d0d",
   "metadata": {},
   "outputs": [],
   "source": []
  }
 ],
 "metadata": {
  "kernelspec": {
   "display_name": "Python 3",
   "language": "python",
   "name": "python3"
  },
  "language_info": {
   "codemirror_mode": {
    "name": "ipython",
    "version": 3
   },
   "file_extension": ".py",
   "mimetype": "text/x-python",
   "name": "python",
   "nbconvert_exporter": "python",
   "pygments_lexer": "ipython3",
   "version": "3.9.2"
  },
  "toc": {
   "base_numbering": 1,
   "nav_menu": {},
   "number_sections": false,
   "sideBar": true,
   "skip_h1_title": false,
   "title_cell": "Table of Contents",
   "title_sidebar": "Contents",
   "toc_cell": false,
   "toc_position": {},
   "toc_section_display": true,
   "toc_window_display": false
  },
  "varInspector": {
   "cols": {
    "lenName": 16,
    "lenType": 16,
    "lenVar": 40
   },
   "kernels_config": {
    "python": {
     "delete_cmd_postfix": "",
     "delete_cmd_prefix": "del ",
     "library": "var_list.py",
     "varRefreshCmd": "print(var_dic_list())"
    },
    "r": {
     "delete_cmd_postfix": ") ",
     "delete_cmd_prefix": "rm(",
     "library": "var_list.r",
     "varRefreshCmd": "cat(var_dic_list()) "
    }
   },
   "types_to_exclude": [
    "module",
    "function",
    "builtin_function_or_method",
    "instance",
    "_Feature"
   ],
   "window_display": false
  },
  "widgets": {
   "application/vnd.jupyter.widget-state+json": {
    "state": {
     "0284baf536c948ba9537b67abefa4fad": {
      "model_module": "@jupyter-widgets/output",
      "model_module_version": "1.0.0",
      "model_name": "OutputModel",
      "state": {
       "layout": "IPY_MODEL_d76b99a70a424fcc8ef3fd44a8e1bbf2",
       "outputs": [
        {
         "data": {
          "application/vnd.jupyter.widget-view+json": {
           "model_id": "2f74622f2e8348349feffcf8ecd6f352",
           "version_major": 2,
           "version_minor": 0
          },
          "text/plain": "Canvas(toolbar=Toolbar(toolitems=[('Home', 'Reset original view', 'home', 'home'), ('Back', 'Back to previous …"
         },
         "metadata": {},
         "output_type": "display_data"
        }
       ]
      }
     },
     "06ec63fd212e4e30a49af8776334a540": {
      "model_module": "@jupyter-widgets/base",
      "model_module_version": "1.2.0",
      "model_name": "LayoutModel",
      "state": {}
     },
     "0c5f9f529d894cefa3b3c4449054cfe2": {
      "model_module": "@jupyter-widgets/controls",
      "model_module_version": "1.5.0",
      "model_name": "SliderStyleModel",
      "state": {
       "description_width": ""
      }
     },
     "0cb67bbe2c68437ebbf391df1e32c915": {
      "model_module": "@jupyter-widgets/controls",
      "model_module_version": "1.5.0",
      "model_name": "SliderStyleModel",
      "state": {
       "description_width": ""
      }
     },
     "17f15940928a44dc9d2d7ba9703df7aa": {
      "model_module": "@jupyter-widgets/base",
      "model_module_version": "1.2.0",
      "model_name": "LayoutModel",
      "state": {}
     },
     "20733b1e9c8540f1b1c74f2eae9a6877": {
      "model_module": "@jupyter-widgets/base",
      "model_module_version": "1.2.0",
      "model_name": "LayoutModel",
      "state": {}
     },
     "2524fd8ef06045a39352cecc04b58bb3": {
      "model_module": "@jupyter-widgets/base",
      "model_module_version": "1.2.0",
      "model_name": "LayoutModel",
      "state": {}
     },
     "29cfed5f9c0340fe90a26d0114982741": {
      "model_module": "jupyter-matplotlib",
      "model_module_version": "^0.9.0",
      "model_name": "MPLCanvasModel",
      "state": {
       "_cursor": "default",
       "_figure_label": "Figure 1",
       "_height": 216,
       "_image_mode": "diff",
       "_width": 165,
       "layout": "IPY_MODEL_2524fd8ef06045a39352cecc04b58bb3",
       "toolbar": "IPY_MODEL_62bedf4c61bd4eabb1f7438b476f2329",
       "toolbar_position": "left"
      }
     },
     "2f74622f2e8348349feffcf8ecd6f352": {
      "model_module": "jupyter-matplotlib",
      "model_module_version": "^0.9.0",
      "model_name": "MPLCanvasModel",
      "state": {
       "_cursor": "default",
       "_figure_label": "Figure 4",
       "_height": 360,
       "_width": 276,
       "layout": "IPY_MODEL_35727dd474e84bae9faa4a8b29484645",
       "toolbar": "IPY_MODEL_572f1483ef9c444c960232273f3ad60f",
       "toolbar_position": "left"
      }
     },
     "35727dd474e84bae9faa4a8b29484645": {
      "model_module": "@jupyter-widgets/base",
      "model_module_version": "1.2.0",
      "model_name": "LayoutModel",
      "state": {}
     },
     "3821e0a4799044ffa8ccf5776d3364af": {
      "model_module": "@jupyter-widgets/base",
      "model_module_version": "1.2.0",
      "model_name": "LayoutModel",
      "state": {}
     },
     "3970c20f24a54e279d35f54c3fab3576": {
      "model_module": "jupyter-matplotlib",
      "model_module_version": "^0.9.0",
      "model_name": "MPLCanvasModel",
      "state": {
       "_cursor": "default",
       "_figure_label": "Figure 2",
       "_height": 72,
       "_width": 55,
       "layout": "IPY_MODEL_6e2e4eab9b214b9c8924cd4e4143b4fd",
       "toolbar": "IPY_MODEL_8c40b203fd6d4d12a9b12f97739563e6",
       "toolbar_position": "left"
      }
     },
     "4029e64871f544428d9f5939fb389e5f": {
      "model_module": "@jupyter-widgets/controls",
      "model_module_version": "1.5.0",
      "model_name": "IntSliderModel",
      "state": {
       "description": "Time",
       "layout": "IPY_MODEL_b760e1afac4441d69be06b5e6a30cdc6",
       "max": 29,
       "style": "IPY_MODEL_4b66846adc2b4c9dab001c5430d81ff5"
      }
     },
     "423439d8f8cb4ea7b9956723fff8b7b8": {
      "model_module": "@jupyter-widgets/output",
      "model_module_version": "1.0.0",
      "model_name": "OutputModel",
      "state": {
       "layout": "IPY_MODEL_afb77afa0dcc4d3f9ef4203a8ed9a722",
       "outputs": [
        {
         "data": {
          "application/vnd.jupyter.widget-view+json": {
           "model_id": "29cfed5f9c0340fe90a26d0114982741",
           "version_major": 2,
           "version_minor": 0
          },
          "text/plain": "Canvas(toolbar=Toolbar(toolitems=[('Home', 'Reset original view', 'home', 'home'), ('Back', 'Back to previous …"
         },
         "metadata": {},
         "output_type": "display_data"
        }
       ]
      }
     },
     "497b1abc7bd94f28af76fb9b9c955c97": {
      "model_module": "@jupyter-widgets/output",
      "model_module_version": "1.0.0",
      "model_name": "OutputModel",
      "state": {
       "layout": "IPY_MODEL_06ec63fd212e4e30a49af8776334a540",
       "outputs": [
        {
         "data": {
          "application/vnd.jupyter.widget-view+json": {
           "model_id": "63f5f6ef071c4294bf65c5fd0ed93515",
           "version_major": 2,
           "version_minor": 0
          },
          "text/plain": "Canvas(toolbar=Toolbar(toolitems=[('Home', 'Reset original view', 'home', 'home'), ('Back', 'Back to previous …"
         },
         "metadata": {},
         "output_type": "display_data"
        }
       ]
      }
     },
     "4b66846adc2b4c9dab001c5430d81ff5": {
      "model_module": "@jupyter-widgets/controls",
      "model_module_version": "1.5.0",
      "model_name": "SliderStyleModel",
      "state": {
       "description_width": ""
      }
     },
     "50f36ec26fd04dcaa7a7eac6b7abdc3b": {
      "model_module": "@jupyter-widgets/base",
      "model_module_version": "1.2.0",
      "model_name": "LayoutModel",
      "state": {}
     },
     "52fbe593b1c6426abcaf751927c22137": {
      "model_module": "@jupyter-widgets/base",
      "model_module_version": "1.2.0",
      "model_name": "LayoutModel",
      "state": {}
     },
     "5609fdb362994819b640d03307e5943e": {
      "model_module": "@jupyter-widgets/base",
      "model_module_version": "1.2.0",
      "model_name": "LayoutModel",
      "state": {}
     },
     "572f1483ef9c444c960232273f3ad60f": {
      "model_module": "jupyter-matplotlib",
      "model_module_version": "^0.9.0",
      "model_name": "ToolbarModel",
      "state": {
       "layout": "IPY_MODEL_fb67fa835fc34695a730474df4d7e7d8",
       "toolitems": [
        [
         "Home",
         "Reset original view",
         "home",
         "home"
        ],
        [
         "Back",
         "Back to previous view",
         "arrow-left",
         "back"
        ],
        [
         "Forward",
         "Forward to next view",
         "arrow-right",
         "forward"
        ],
        [
         "Pan",
         "Left button pans, Right button zooms\nx/y fixes axis, CTRL fixes aspect",
         "arrows",
         "pan"
        ],
        [
         "Zoom",
         "Zoom to rectangle\nx/y fixes axis, CTRL fixes aspect",
         "square-o",
         "zoom"
        ],
        [
         "Download",
         "Download plot",
         "floppy-o",
         "save_figure"
        ]
       ]
      }
     },
     "5a53d222490c4d1a85a3cff6ce69e34d": {
      "model_module": "@jupyter-widgets/controls",
      "model_module_version": "1.5.0",
      "model_name": "IntSliderModel",
      "state": {
       "description": "Time",
       "layout": "IPY_MODEL_17f15940928a44dc9d2d7ba9703df7aa",
       "max": 29,
       "style": "IPY_MODEL_b56d7e2842004f958ce19f76ba7f35bf"
      }
     },
     "61fbd35954b349a69dbb2f5a19b20988": {
      "model_module": "@jupyter-widgets/base",
      "model_module_version": "1.2.0",
      "model_name": "LayoutModel",
      "state": {}
     },
     "62bedf4c61bd4eabb1f7438b476f2329": {
      "model_module": "jupyter-matplotlib",
      "model_module_version": "^0.9.0",
      "model_name": "ToolbarModel",
      "state": {
       "layout": "IPY_MODEL_5609fdb362994819b640d03307e5943e",
       "toolitems": [
        [
         "Home",
         "Reset original view",
         "home",
         "home"
        ],
        [
         "Back",
         "Back to previous view",
         "arrow-left",
         "back"
        ],
        [
         "Forward",
         "Forward to next view",
         "arrow-right",
         "forward"
        ],
        [
         "Pan",
         "Left button pans, Right button zooms\nx/y fixes axis, CTRL fixes aspect",
         "arrows",
         "pan"
        ],
        [
         "Zoom",
         "Zoom to rectangle\nx/y fixes axis, CTRL fixes aspect",
         "square-o",
         "zoom"
        ],
        [
         "Download",
         "Download plot",
         "floppy-o",
         "save_figure"
        ]
       ]
      }
     },
     "63f5f6ef071c4294bf65c5fd0ed93515": {
      "model_module": "jupyter-matplotlib",
      "model_module_version": "^0.9.0",
      "model_name": "MPLCanvasModel",
      "state": {
       "_cursor": "default",
       "_figure_label": "Figure 3",
       "_height": 216,
       "_image_mode": "diff",
       "_width": 165,
       "layout": "IPY_MODEL_20733b1e9c8540f1b1c74f2eae9a6877",
       "toolbar": "IPY_MODEL_d4e0f4ddb0254be5bece1349e7d1338c",
       "toolbar_position": "left"
      }
     },
     "656f89f6343d47b1961c672be3ebb31f": {
      "model_module": "@jupyter-widgets/controls",
      "model_module_version": "1.5.0",
      "model_name": "VBoxModel",
      "state": {
       "children": [
        "IPY_MODEL_497b1abc7bd94f28af76fb9b9c955c97",
        "IPY_MODEL_4029e64871f544428d9f5939fb389e5f"
       ],
       "layout": "IPY_MODEL_d88d4b707f054d7ab3c71acf123cb90b"
      }
     },
     "6a9cb71913b04dfc80e0148c4e14ee1a": {
      "model_module": "@jupyter-widgets/controls",
      "model_module_version": "1.5.0",
      "model_name": "IntSliderModel",
      "state": {
       "description": "Time",
       "layout": "IPY_MODEL_61fbd35954b349a69dbb2f5a19b20988",
       "max": 29,
       "style": "IPY_MODEL_0cb67bbe2c68437ebbf391df1e32c915"
      }
     },
     "6e2e4eab9b214b9c8924cd4e4143b4fd": {
      "model_module": "@jupyter-widgets/base",
      "model_module_version": "1.2.0",
      "model_name": "LayoutModel",
      "state": {}
     },
     "8c40b203fd6d4d12a9b12f97739563e6": {
      "model_module": "jupyter-matplotlib",
      "model_module_version": "^0.9.0",
      "model_name": "ToolbarModel",
      "state": {
       "layout": "IPY_MODEL_52fbe593b1c6426abcaf751927c22137",
       "toolitems": [
        [
         "Home",
         "Reset original view",
         "home",
         "home"
        ],
        [
         "Back",
         "Back to previous view",
         "arrow-left",
         "back"
        ],
        [
         "Forward",
         "Forward to next view",
         "arrow-right",
         "forward"
        ],
        [
         "Pan",
         "Left button pans, Right button zooms\nx/y fixes axis, CTRL fixes aspect",
         "arrows",
         "pan"
        ],
        [
         "Zoom",
         "Zoom to rectangle\nx/y fixes axis, CTRL fixes aspect",
         "square-o",
         "zoom"
        ],
        [
         "Download",
         "Download plot",
         "floppy-o",
         "save_figure"
        ]
       ]
      }
     },
     "8e79cc44ad5b487dbbfaa945101a353a": {
      "model_module": "@jupyter-widgets/base",
      "model_module_version": "1.2.0",
      "model_name": "LayoutModel",
      "state": {}
     },
     "9650b6b6d019473899f59cef759f091c": {
      "model_module": "@jupyter-widgets/output",
      "model_module_version": "1.0.0",
      "model_name": "OutputModel",
      "state": {
       "layout": "IPY_MODEL_8e79cc44ad5b487dbbfaa945101a353a",
       "outputs": [
        {
         "data": {
          "application/vnd.jupyter.widget-view+json": {
           "model_id": "3970c20f24a54e279d35f54c3fab3576",
           "version_major": 2,
           "version_minor": 0
          },
          "text/plain": "Canvas(toolbar=Toolbar(toolitems=[('Home', 'Reset original view', 'home', 'home'), ('Back', 'Back to previous …"
         },
         "metadata": {},
         "output_type": "display_data"
        }
       ]
      }
     },
     "a3b994ba32604be1a107cead16aab657": {
      "model_module": "@jupyter-widgets/controls",
      "model_module_version": "1.5.0",
      "model_name": "VBoxModel",
      "state": {
       "children": [
        "IPY_MODEL_423439d8f8cb4ea7b9956723fff8b7b8",
        "IPY_MODEL_6a9cb71913b04dfc80e0148c4e14ee1a"
       ],
       "layout": "IPY_MODEL_c0bb4b8968cc41b0aa93f5a4f5e9161e"
      }
     },
     "afb77afa0dcc4d3f9ef4203a8ed9a722": {
      "model_module": "@jupyter-widgets/base",
      "model_module_version": "1.2.0",
      "model_name": "LayoutModel",
      "state": {}
     },
     "b56d7e2842004f958ce19f76ba7f35bf": {
      "model_module": "@jupyter-widgets/controls",
      "model_module_version": "1.5.0",
      "model_name": "SliderStyleModel",
      "state": {
       "description_width": ""
      }
     },
     "b760e1afac4441d69be06b5e6a30cdc6": {
      "model_module": "@jupyter-widgets/base",
      "model_module_version": "1.2.0",
      "model_name": "LayoutModel",
      "state": {}
     },
     "c0bb4b8968cc41b0aa93f5a4f5e9161e": {
      "model_module": "@jupyter-widgets/base",
      "model_module_version": "1.2.0",
      "model_name": "LayoutModel",
      "state": {}
     },
     "d4e0f4ddb0254be5bece1349e7d1338c": {
      "model_module": "jupyter-matplotlib",
      "model_module_version": "^0.9.0",
      "model_name": "ToolbarModel",
      "state": {
       "layout": "IPY_MODEL_e4b5bd30a90d44ddb635411bfa77b141",
       "toolitems": [
        [
         "Home",
         "Reset original view",
         "home",
         "home"
        ],
        [
         "Back",
         "Back to previous view",
         "arrow-left",
         "back"
        ],
        [
         "Forward",
         "Forward to next view",
         "arrow-right",
         "forward"
        ],
        [
         "Pan",
         "Left button pans, Right button zooms\nx/y fixes axis, CTRL fixes aspect",
         "arrows",
         "pan"
        ],
        [
         "Zoom",
         "Zoom to rectangle\nx/y fixes axis, CTRL fixes aspect",
         "square-o",
         "zoom"
        ],
        [
         "Download",
         "Download plot",
         "floppy-o",
         "save_figure"
        ]
       ]
      }
     },
     "d6d1469b667b47238d38a6ac73c833dc": {
      "model_module": "@jupyter-widgets/controls",
      "model_module_version": "1.5.0",
      "model_name": "VBoxModel",
      "state": {
       "children": [
        "IPY_MODEL_0284baf536c948ba9537b67abefa4fad",
        "IPY_MODEL_f4db142c903e42bf9fd7ceb1ececc4fc"
       ],
       "layout": "IPY_MODEL_50f36ec26fd04dcaa7a7eac6b7abdc3b"
      }
     },
     "d76b99a70a424fcc8ef3fd44a8e1bbf2": {
      "model_module": "@jupyter-widgets/base",
      "model_module_version": "1.2.0",
      "model_name": "LayoutModel",
      "state": {}
     },
     "d88d4b707f054d7ab3c71acf123cb90b": {
      "model_module": "@jupyter-widgets/base",
      "model_module_version": "1.2.0",
      "model_name": "LayoutModel",
      "state": {}
     },
     "d8be5dea6d624e5193fe9a5ba3c6f4b1": {
      "model_module": "@jupyter-widgets/base",
      "model_module_version": "1.2.0",
      "model_name": "LayoutModel",
      "state": {}
     },
     "e4b5bd30a90d44ddb635411bfa77b141": {
      "model_module": "@jupyter-widgets/base",
      "model_module_version": "1.2.0",
      "model_name": "LayoutModel",
      "state": {}
     },
     "f4db142c903e42bf9fd7ceb1ececc4fc": {
      "model_module": "@jupyter-widgets/controls",
      "model_module_version": "1.5.0",
      "model_name": "IntSliderModel",
      "state": {
       "description": "Time",
       "layout": "IPY_MODEL_3821e0a4799044ffa8ccf5776d3364af",
       "max": 29,
       "style": "IPY_MODEL_0c5f9f529d894cefa3b3c4449054cfe2"
      }
     },
     "fb67fa835fc34695a730474df4d7e7d8": {
      "model_module": "@jupyter-widgets/base",
      "model_module_version": "1.2.0",
      "model_name": "LayoutModel",
      "state": {}
     },
     "fc7fb18072554a58872d1e52e883765c": {
      "model_module": "@jupyter-widgets/controls",
      "model_module_version": "1.5.0",
      "model_name": "VBoxModel",
      "state": {
       "children": [
        "IPY_MODEL_9650b6b6d019473899f59cef759f091c",
        "IPY_MODEL_5a53d222490c4d1a85a3cff6ce69e34d"
       ],
       "layout": "IPY_MODEL_d8be5dea6d624e5193fe9a5ba3c6f4b1"
      }
     }
    },
    "version_major": 2,
    "version_minor": 0
   }
  }
 },
 "nbformat": 4,
 "nbformat_minor": 5
}
