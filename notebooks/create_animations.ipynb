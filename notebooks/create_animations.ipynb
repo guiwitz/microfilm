{
 "cells": [
  {
   "cell_type": "markdown",
   "id": "9c10ed7f",
   "metadata": {},
   "source": [
    "# Creating animations\n",
    "\n",
    "While the ```microplot``` module allows one to create single-frame multi-channel images with annotations, the ```microanim``` module allows one to create interactive plots and save animations of time-lapse versions of such plots. Both modules use an almost identical set of options to render the images and add annotations. "
   ]
  },
  {
   "cell_type": "code",
   "execution_count": 1,
   "id": "a32d0ada-0cf6-4e4a-b236-499471382001",
   "metadata": {},
   "outputs": [],
   "source": [
    "#%load_ext autoreload\n",
    "#%autoreload 2"
   ]
  },
  {
   "cell_type": "markdown",
   "id": "cf0bc2d1",
   "metadata": {},
   "source": [
    "## Dataset\n",
    "\n",
    "To create an animation, you need a dataset containing multiple frames. As dataset, you can either use a Numpy array with shape CTXY or use one of the ```dataset``` classes. We start with the simplest case of an array and load a complete stack that we reshape:"
   ]
  },
  {
   "cell_type": "code",
   "execution_count": 2,
   "id": "b419186f-9bd0-4028-858c-1a4ad21e4a25",
   "metadata": {},
   "outputs": [],
   "source": [
    "import matplotlib.pyplot as plt\n",
    "import numpy as np\n",
    "import skimage.io"
   ]
  },
  {
   "cell_type": "code",
   "execution_count": 32,
   "id": "627acb2a",
   "metadata": {},
   "outputs": [],
   "source": [
    "image = skimage.io.imread('../demodata/coli_nucl_ori_ter.tif')"
   ]
  },
  {
   "cell_type": "markdown",
   "id": "e7753beb",
   "metadata": {},
   "source": [
    "## Create the animation object\n",
    "\n",
    "Now we can use default settings to create an animation object. For that we only need the dataset, here in the form of a Numpy array. **If you use such a Numpy array, by default all channels are plotted. If you don't want that either create a dataset object (see later) or slice your array**.\n",
    "\n",
    "We will have access to some interactivity to scroll through the frames. So before we start we need to activate Matplotlib's interactive widget mode:"
   ]
  },
  {
   "cell_type": "code",
   "execution_count": 12,
   "id": "d1289760",
   "metadata": {},
   "outputs": [],
   "source": [
    "%matplotlib widget"
   ]
  },
  {
   "cell_type": "code",
   "execution_count": 13,
   "id": "7d594d83",
   "metadata": {},
   "outputs": [],
   "source": [
    "from microfilm.microanim import Microanim"
   ]
  },
  {
   "cell_type": "markdown",
   "id": "d20efdf1",
   "metadata": {},
   "source": [
    "Now we can create the animation object."
   ]
  },
  {
   "cell_type": "code",
   "execution_count": 20,
   "id": "b0cd1b2d",
   "metadata": {},
   "outputs": [],
   "source": [
    "anim = Microanim(data=image, cmaps=['pure_blue','pure_red', 'pure_green'])"
   ]
  },
  {
   "cell_type": "markdown",
   "id": "c97e37bf",
   "metadata": {},
   "source": [
    "## Interactive object\n",
    "\n",
    "To display our time-lapse image and browse through it, we the simply call the ```ui``` of the object:"
   ]
  },
  {
   "cell_type": "code",
   "execution_count": 21,
   "id": "c4aba78e",
   "metadata": {},
   "outputs": [
    {
     "data": {
      "application/vnd.jupyter.widget-view+json": {
       "model_id": "36fe1a0e4b124d7e826ee7e348010760",
       "version_major": 2,
       "version_minor": 0
      },
      "text/plain": [
       "VBox(children=(Output(outputs=({'output_type': 'display_data', 'data': {'text/plain': \"Canvas(toolbar=Toolbar(…"
      ]
     },
     "metadata": {},
     "output_type": "display_data"
    }
   ],
   "source": [
    "anim.ui"
   ]
  },
  {
   "cell_type": "markdown",
   "id": "f71cb42f",
   "metadata": {},
   "source": [
    "## Customizing the plot\n",
    "\n",
    "As mentioned before, you have access to almost all options that you can use in ```microshow``` for the animation. Here's an example where we pick a specific color map per channel, add a scale bar and adjust the plot size:"
   ]
  },
  {
   "cell_type": "code",
   "execution_count": 27,
   "id": "7a8e4646",
   "metadata": {},
   "outputs": [
    {
     "data": {
      "application/vnd.jupyter.widget-view+json": {
       "model_id": "eb1e9d0371bc402d984267976a49c8ce",
       "version_major": 2,
       "version_minor": 0
      },
      "text/plain": [
       "VBox(children=(Output(), IntSlider(value=0, description='Time', max=29)))"
      ]
     },
     "metadata": {},
     "output_type": "display_data"
    }
   ],
   "source": [
    "anim = Microanim(data=image, cmaps=['pure_blue','pure_red', 'pure_green'],\n",
    "                unit='um', scalebar_units=4, unit_per_pix=0.065, fig_scaling=2)\n",
    "anim.ui"
   ]
  },
  {
   "cell_type": "markdown",
   "id": "e3727f68",
   "metadata": {},
   "source": [
    "### Access to microim\n",
    "\n",
    "Within the animation object, you still get access to the ```Microimage``` object underlying it. This means that you can use the corresponding methods e.g. to add a label:"
   ]
  },
  {
   "cell_type": "code",
   "execution_count": 22,
   "id": "dc82a734",
   "metadata": {},
   "outputs": [
    {
     "data": {
      "application/vnd.jupyter.widget-view+json": {
       "model_id": "36fe1a0e4b124d7e826ee7e348010760",
       "version_major": 2,
       "version_minor": 0
      },
      "text/plain": [
       "VBox(children=(Output(outputs=({'output_type': 'display_data', 'data': {'text/plain': \"Canvas(toolbar=Toolbar(…"
      ]
     },
     "metadata": {},
     "output_type": "display_data"
    }
   ],
   "source": [
    "anim.microim.add_label('A');\n",
    "anim.ui"
   ]
  },
  {
   "cell_type": "markdown",
   "id": "fe00c3ac",
   "metadata": {},
   "source": [
    "And of course via ```self.microim``` you also get access to the underlying axis object, so that you have full access to all Matplotlib customizations:"
   ]
  },
  {
   "cell_type": "code",
   "execution_count": 23,
   "id": "64cf4507",
   "metadata": {},
   "outputs": [
    {
     "data": {
      "application/vnd.jupyter.widget-view+json": {
       "model_id": "36fe1a0e4b124d7e826ee7e348010760",
       "version_major": 2,
       "version_minor": 0
      },
      "text/plain": [
       "VBox(children=(Output(outputs=({'output_type': 'display_data', 'data': {'text/plain': \"Canvas(toolbar=Toolbar(…"
      ]
     },
     "metadata": {},
     "output_type": "display_data"
    }
   ],
   "source": [
    "anim.microim.ax.set_aspect(0.7)\n",
    "anim.ui"
   ]
  },
  {
   "cell_type": "markdown",
   "id": "010148f7",
   "metadata": {},
   "source": [
    "## Adding a time-stamp\n",
    "\n",
    "As a specific feature for animations, you can add a specific label which is a time stamp. At the moment you are limited to use a ```HH:MM:SS``` format. To add it to your plot, you just specify the unit (e.g. ```T``` for minutes, abbreviations are from Pandas), and the number of units per time frame e.g. here 5min:"
   ]
  },
  {
   "cell_type": "code",
   "execution_count": 28,
   "id": "03407c4d",
   "metadata": {},
   "outputs": [
    {
     "data": {
      "application/vnd.jupyter.widget-view+json": {
       "model_id": "4ae48de6592f48e2b64145d979303e42",
       "version_major": 2,
       "version_minor": 0
      },
      "text/plain": [
       "VBox(children=(Output(), IntSlider(value=0, description='Time', max=29)))"
      ]
     },
     "metadata": {},
     "output_type": "display_data"
    }
   ],
   "source": [
    "anim = Microanim(data=image, cmaps=['pure_blue','pure_red', 'pure_green'],\n",
    "                unit='um', scalebar_units=4, unit_per_pix=0.065, fig_scaling=3)\n",
    "anim.add_time_stamp('T', 10, location='lower left')\n",
    "anim.ui"
   ]
  },
  {
   "cell_type": "markdown",
   "id": "ef56544b",
   "metadata": {},
   "source": [
    "## Exporting the animation\n",
    "\n",
    "Once you are satisfied with your movie, you may want to export it to integrate it e.g. in a presentation. You can do that easily using the ```save_movie``` method. You can specify the image quality and the frames per second for various movie formats (.mov, .avi, .mpg, .mpeg, .mp4, .mkv, .wmv) and the image format is simply recovered from the file name. You can also export as gif, but don't have access to the ```quality``` option there:"
   ]
  },
  {
   "cell_type": "code",
   "execution_count": 30,
   "id": "885eec25",
   "metadata": {},
   "outputs": [
    {
     "name": "stderr",
     "output_type": "stream",
     "text": [
      "IMAGEIO FFMPEG_WRITER WARNING: input image is not divisible by macro_block_size=16, resizing from (235, 269) to (240, 272) to ensure video compatibility with most codecs and players. To prevent resizing, make your input image divisible by the macro_block_size or set the macro_block_size to 1 (risking incompatibility).\n"
     ]
    }
   ],
   "source": [
    "anim.save_movie('movie.mp4', fps=15, quality=5)"
   ]
  },
  {
   "cell_type": "code",
   "execution_count": 31,
   "id": "0d2fe97c",
   "metadata": {},
   "outputs": [],
   "source": [
    "anim.save_movie('movie.gif', fps=15)"
   ]
  },
  {
   "cell_type": "markdown",
   "id": "92b66340",
   "metadata": {},
   "source": [
    "## Using the dataset class\n",
    "\n",
    "Instead of a plain Numpy array you can pass one of the ```dataset``` objects to the animation constructor. You have here the additional flexibility of choosing which channels to plot for example. Also, if you deal with large images, it is favorable to use a format such as H5 where not the full dataset is loaded into memory.\n",
    "\n",
    "We keep our simple example, and transform our Numpy array into a ```dataset```. We can specify a name for each channel. Here again, the array format **has to be CTXY**."
   ]
  },
  {
   "cell_type": "code",
   "execution_count": 29,
   "id": "4d98a88d",
   "metadata": {},
   "outputs": [],
   "source": [
    "from microfilm.dataset import Nparray\n",
    "\n",
    "data = Nparray(nparray=image, channel_name=['nucleoid', 'ori', 'ter'])"
   ]
  },
  {
   "cell_type": "markdown",
   "id": "3e1c4b7a",
   "metadata": {},
   "source": [
    "Now we can explicitly specify which channels to plot. For example if you just want a single channel:"
   ]
  },
  {
   "cell_type": "code",
   "execution_count": 33,
   "id": "d7b7b41f",
   "metadata": {},
   "outputs": [],
   "source": [
    "self = Microanim(data=data, channels=['nucleoid','ori'], cmaps=['pure_red','pure_green'],\n",
    "                unit='um', scalebar_units=4, unit_per_pix=0.065, fig_scaling=5)\n",
    "self.microim.add_label('A')\n",
    "self.add_time_stamp('T', 10, location='lower left')"
   ]
  },
  {
   "cell_type": "code",
   "execution_count": 34,
   "id": "573cfa53",
   "metadata": {},
   "outputs": [
    {
     "data": {
      "application/vnd.jupyter.widget-view+json": {
       "model_id": "fa7de273a8ae4cd3afedaf61c19d4e7e",
       "version_major": 2,
       "version_minor": 0
      },
      "text/plain": [
       "VBox(children=(Output(outputs=({'output_type': 'display_data', 'data': {'text/plain': \"Canvas(toolbar=Toolbar(…"
      ]
     },
     "metadata": {},
     "output_type": "display_data"
    }
   ],
   "source": [
    "self.ui"
   ]
  },
  {
   "cell_type": "code",
   "execution_count": null,
   "id": "eff62340",
   "metadata": {},
   "outputs": [],
   "source": []
  }
 ],
 "metadata": {
  "kernelspec": {
   "display_name": "Python 3",
   "language": "python",
   "name": "python3"
  },
  "language_info": {
   "codemirror_mode": {
    "name": "ipython",
    "version": 3
   },
   "file_extension": ".py",
   "mimetype": "text/x-python",
   "name": "python",
   "nbconvert_exporter": "python",
   "pygments_lexer": "ipython3",
   "version": "3.9.2"
  },
  "toc": {
   "base_numbering": 1,
   "nav_menu": {},
   "number_sections": false,
   "sideBar": true,
   "skip_h1_title": false,
   "title_cell": "Table of Contents",
   "title_sidebar": "Contents",
   "toc_cell": false,
   "toc_position": {},
   "toc_section_display": true,
   "toc_window_display": true
  },
  "varInspector": {
   "cols": {
    "lenName": 16,
    "lenType": 16,
    "lenVar": 40
   },
   "kernels_config": {
    "python": {
     "delete_cmd_postfix": "",
     "delete_cmd_prefix": "del ",
     "library": "var_list.py",
     "varRefreshCmd": "print(var_dic_list())"
    },
    "r": {
     "delete_cmd_postfix": ") ",
     "delete_cmd_prefix": "rm(",
     "library": "var_list.r",
     "varRefreshCmd": "cat(var_dic_list()) "
    }
   },
   "types_to_exclude": [
    "module",
    "function",
    "builtin_function_or_method",
    "instance",
    "_Feature"
   ],
   "window_display": false
  }
 },
 "nbformat": 4,
 "nbformat_minor": 5
}
