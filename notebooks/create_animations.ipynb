{
 "cells": [
  {
   "cell_type": "markdown",
   "id": "4c3e2bf3",
   "metadata": {},
   "source": [
    "<link rel=\"stylesheet\" href=\"https://cdnjs.cloudflare.com/ajax/libs/font-awesome/4.7.0/css/font-awesome.css\" integrity=\"sha512-5A8nwdMOWrSz20fDsjczgUidUBR8liPYU+WymTZP1lmY9G6Oc7HlZv156XqnsgNUzTyMefFTcsFH/tnJE/+xBg==\" crossorigin=\"anonymous\" />\n",
    "<script src=\"https://cdnjs.cloudflare.com/ajax/libs/require.js/2.3.4/require.min.js\"></script>"
   ]
  },
  {
   "cell_type": "markdown",
   "id": "9c10ed7f",
   "metadata": {},
   "source": [
    "# Creating animations\n",
    "\n",
    "While the ```microplot``` module allows one to create single-frame multi-channel images with annotations, the ```microanim``` module allows one to create interactive plots and save animations of time-lapse versions of such plots. Both modules use an almost identical set of options to render the images and add annotations. "
   ]
  },
  {
   "cell_type": "code",
   "execution_count": 19,
   "id": "a32d0ada-0cf6-4e4a-b236-499471382001",
   "metadata": {},
   "outputs": [],
   "source": [
    "#%load_ext autoreload\n",
    "#%autoreload 2"
   ]
  },
  {
   "cell_type": "markdown",
   "id": "cf0bc2d1",
   "metadata": {},
   "source": [
    "## Dataset\n",
    "\n",
    "To create an animation, you need a dataset containing multiple frames. As dataset, you can either use a Numpy array with shape CTXY or use one of the ```dataset``` classes. We start with the simplest case of an array and load a complete stack that we reshape:"
   ]
  },
  {
   "cell_type": "code",
   "execution_count": 1,
   "id": "b419186f-9bd0-4028-858c-1a4ad21e4a25",
   "metadata": {
    "tags": [
     "thebe-init"
    ]
   },
   "outputs": [],
   "source": [
    "import matplotlib.pyplot as plt\n",
    "import numpy as np\n",
    "import skimage.io"
   ]
  },
  {
   "cell_type": "code",
   "execution_count": 2,
   "id": "627acb2a",
   "metadata": {
    "tags": [
     "thebe-init"
    ]
   },
   "outputs": [],
   "source": [
    "image = skimage.io.imread('../demodata/coli_nucl_ori_ter.tif')"
   ]
  },
  {
   "cell_type": "markdown",
   "id": "e7753beb",
   "metadata": {},
   "source": [
    "## Create the animation object\n",
    "\n",
    "Now we can use default settings to create an animation object. For that we only need the dataset, here in the form of a Numpy array. **If you use such a Numpy array, by default all channels are plotted. If you don't want that either create a dataset object (see later) or slice your array**.\n",
    "\n",
    "We will have access to some interactivity to scroll through the frames. So before we start we need to activate Matplotlib's interactive widget mode:"
   ]
  },
  {
   "cell_type": "code",
   "execution_count": 3,
   "id": "d1289760",
   "metadata": {
    "tags": [
     "thebe-init"
    ]
   },
   "outputs": [],
   "source": [
    "%matplotlib widget"
   ]
  },
  {
   "cell_type": "code",
   "execution_count": 4,
   "id": "7d594d83",
   "metadata": {
    "tags": [
     "thebe-init"
    ]
   },
   "outputs": [],
   "source": [
    "from microfilm.microanim import Microanim"
   ]
  },
  {
   "cell_type": "code",
   "execution_count": 5,
   "id": "26308894",
   "metadata": {},
   "outputs": [
    {
     "data": {
      "text/plain": [
       "(3, 30, 220, 169)"
      ]
     },
     "execution_count": 5,
     "metadata": {},
     "output_type": "execute_result"
    }
   ],
   "source": [
    "image.shape"
   ]
  },
  {
   "cell_type": "markdown",
   "id": "d20efdf1",
   "metadata": {},
   "source": [
    "Now we can create the animation object. The animation object takes the same arguments as the ```Microimage``` object. The main difference is that you need to provide in addition a ```data``` parameter which represents your time-lapse images. The ```data``` can be either one of the ```microfilm.dataset``` objects or a simple Numpy array with dimensions ```C x Z x X x Y``` like ```image``` used here:"
   ]
  },
  {
   "cell_type": "code",
   "execution_count": 6,
   "id": "b0cd1b2d",
   "metadata": {
    "tags": [
     "thebe-init"
    ]
   },
   "outputs": [],
   "source": [
    "anim = Microanim(data=image, cmaps=['pure_blue','pure_red', 'pure_green'])"
   ]
  },
  {
   "cell_type": "markdown",
   "id": "c97e37bf",
   "metadata": {},
   "source": [
    "## Interactive object\n",
    "\n",
    "To display our time-lapse image and browse through it, we the simply call the ```ui``` of the object:"
   ]
  },
  {
   "cell_type": "code",
   "execution_count": 9,
   "id": "c4aba78e",
   "metadata": {
    "tags": [
     "thebe-init"
    ]
   },
   "outputs": [
    {
     "data": {
      "application/vnd.jupyter.widget-view+json": {
       "model_id": "582b32ce795247999a4ae693c1482b1e",
       "version_major": 2,
       "version_minor": 0
      },
      "text/plain": [
       "Output(outputs=({'output_type': 'display_data', 'data': {'text/plain': \"Canvas(toolbar=Toolbar(toolitems=[('Ho…"
      ]
     },
     "metadata": {},
     "output_type": "display_data"
    }
   ],
   "source": [
    "anim.output"
   ]
  },
  {
   "cell_type": "code",
   "execution_count": 8,
   "id": "1e7a7bef",
   "metadata": {},
   "outputs": [
    {
     "data": {
      "application/vnd.jupyter.widget-view+json": {
       "model_id": "14433f923d7144fb85d17b28de662e81",
       "version_major": 2,
       "version_minor": 0
      },
      "text/plain": [
       "IntSlider(value=0, description='Time', max=29)"
      ]
     },
     "metadata": {},
     "output_type": "display_data"
    }
   ],
   "source": [
    "anim.time_slider"
   ]
  },
  {
   "cell_type": "markdown",
   "id": "f71cb42f",
   "metadata": {},
   "source": [
    "## Customizing the plot\n",
    "\n",
    "As mentioned before, you have access to almost all options that you can use in ```microshow``` for the animation. Here's an example where we pick a specific color map per channel, add a scale bar and adjust the plot size:"
   ]
  },
  {
   "cell_type": "code",
   "execution_count": 9,
   "id": "7a8e4646",
   "metadata": {},
   "outputs": [
    {
     "data": {
      "application/vnd.jupyter.widget-view+json": {
       "model_id": "3dc230c4f67c48ee87eeb57cbd8df013",
       "version_major": 2,
       "version_minor": 0
      },
      "text/plain": [
       "VBox(children=(Output(), IntSlider(value=0, description='Time', max=29)))"
      ]
     },
     "metadata": {},
     "output_type": "display_data"
    }
   ],
   "source": [
    "anim = Microanim(data=image, cmaps=['pure_blue','pure_red', 'pure_green'],\n",
    "                unit='um', scalebar_size_in_units=4, scalebar_unit_per_pix=0.065, fig_scaling=2)\n",
    "anim.ui"
   ]
  },
  {
   "cell_type": "markdown",
   "id": "e3727f68",
   "metadata": {},
   "source": [
    "### Access to microim\n",
    "\n",
    "As the animation object is very similar to the simple plot object, you get also access to the same underlying methods e.g. to add a label:"
   ]
  },
  {
   "cell_type": "code",
   "execution_count": 10,
   "id": "dc82a734",
   "metadata": {},
   "outputs": [
    {
     "data": {
      "application/vnd.jupyter.widget-view+json": {
       "model_id": "3dc230c4f67c48ee87eeb57cbd8df013",
       "version_major": 2,
       "version_minor": 0
      },
      "text/plain": [
       "VBox(children=(Output(), IntSlider(value=0, description='Time', max=29)))"
      ]
     },
     "metadata": {},
     "output_type": "display_data"
    }
   ],
   "source": [
    "anim.add_label('a comment', label_location='upper right');\n",
    "anim.ui"
   ]
  },
  {
   "cell_type": "markdown",
   "id": "fe00c3ac",
   "metadata": {},
   "source": [
    "And again, you also get access to the underlying Matplotlib objects like axis:"
   ]
  },
  {
   "cell_type": "code",
   "execution_count": 11,
   "id": "64cf4507",
   "metadata": {},
   "outputs": [
    {
     "data": {
      "application/vnd.jupyter.widget-view+json": {
       "model_id": "3dc230c4f67c48ee87eeb57cbd8df013",
       "version_major": 2,
       "version_minor": 0
      },
      "text/plain": [
       "VBox(children=(Output(), IntSlider(value=0, description='Time', max=29)))"
      ]
     },
     "metadata": {},
     "output_type": "display_data"
    }
   ],
   "source": [
    "anim.ax.set_aspect(0.7)\n",
    "anim.ui"
   ]
  },
  {
   "cell_type": "markdown",
   "id": "010148f7",
   "metadata": {},
   "source": [
    "## Adding a time-stamp\n",
    "\n",
    "As a specific feature for animations, you can add a specific label which is a time stamp. At the moment you are limited to use a ```HH:MM:SS``` format. To add it to your plot, you just specify the unit (e.g. ```T``` for minutes, abbreviations are from Pandas), and the number of units per time frame e.g. here 5min:"
   ]
  },
  {
   "cell_type": "code",
   "execution_count": 12,
   "id": "03407c4d",
   "metadata": {},
   "outputs": [
    {
     "data": {
      "application/vnd.jupyter.widget-view+json": {
       "model_id": "a7035668b7f544b2a83db6405fc01806",
       "version_major": 2,
       "version_minor": 0
      },
      "text/plain": [
       "VBox(children=(Output(), IntSlider(value=0, description='Time', max=29)))"
      ]
     },
     "metadata": {},
     "output_type": "display_data"
    }
   ],
   "source": [
    "anim = Microanim(data=image, cmaps=['pure_blue','pure_red', 'pure_green'],\n",
    "                unit='um', scalebar_size_in_units=4, scalebar_unit_per_pix=0.065, fig_scaling=3)\n",
    "anim.add_time_stamp('T', 10, location='lower left')\n",
    "anim.ui"
   ]
  },
  {
   "cell_type": "markdown",
   "id": "1a4945ac",
   "metadata": {},
   "source": [
    "Just like for regular plots, you may want to create animations with multiple panels. This is done in the same way as for figures, by assembling pre-made single animations. Find more information in [this section](create_panels.ipynb)."
   ]
  },
  {
   "cell_type": "markdown",
   "id": "ef56544b",
   "metadata": {},
   "source": [
    "## Exporting the animation\n",
    "\n",
    "Once you are satisfied with your movie, you may want to export it to integrate it e.g. in a presentation. You can do that easily using the ```save_movie``` method. You can specify the image quality and the frames per second for various movie formats (.mov, .avi, .mpg, .mpeg, .mp4, .mkv, .wmv) and the image format is simply recovered from the file name. You can also export as gif, but don't have access to the ```quality``` option there:"
   ]
  },
  {
   "cell_type": "code",
   "execution_count": 13,
   "id": "885eec25",
   "metadata": {},
   "outputs": [
    {
     "name": "stderr",
     "output_type": "stream",
     "text": [
      "[WARNING: _io: 411 2021-06-27 15:54:26,865] IMAGEIO FFMPEG_WRITER WARNING: input image is not divisible by macro_block_size=16, resizing from (230, 300) to (240, 304) to ensure video compatibility with most codecs and players. To prevent resizing, make your input image divisible by the macro_block_size or set the macro_block_size to 1 (risking incompatibility).\n"
     ]
    }
   ],
   "source": [
    "anim.save_movie('movie.mp4', fps=15, quality=5)"
   ]
  },
  {
   "cell_type": "code",
   "execution_count": 14,
   "id": "0d2fe97c",
   "metadata": {},
   "outputs": [],
   "source": [
    "anim.save_movie('movie.gif', fps=15)"
   ]
  },
  {
   "cell_type": "markdown",
   "id": "92b66340",
   "metadata": {},
   "source": [
    "## Using the dataset class\n",
    "\n",
    "Instead of a plain Numpy array you can pass one of the ```dataset``` objects to the animation constructor. You have here the additional flexibility of choosing which channels to plot for example. Also, if you deal with large images, it is favorable to use a format such as H5 where not the full dataset is loaded into memory.\n",
    "\n",
    "We keep our simple example, and transform our Numpy array into a ```dataset```. We can specify a name for each channel. Here again, the array format **has to be CTXY**."
   ]
  },
  {
   "cell_type": "code",
   "execution_count": 15,
   "id": "4d98a88d",
   "metadata": {},
   "outputs": [],
   "source": [
    "from microfilm.dataset import Nparray\n",
    "\n",
    "data = Nparray(nparray=image, channel_name=['nucleoid', 'ori', 'ter'])"
   ]
  },
  {
   "cell_type": "markdown",
   "id": "3e1c4b7a",
   "metadata": {},
   "source": [
    "Now we can explicitly specify which channels to plot. For example if you just want a single channel:"
   ]
  },
  {
   "cell_type": "code",
   "execution_count": 16,
   "id": "d7b7b41f",
   "metadata": {},
   "outputs": [],
   "source": [
    "anim = Microanim(data=data, channels=['nucleoid','ori'], cmaps=['pure_red','pure_green'],\n",
    "                unit='um', scalebar_size_in_units=4, scalebar_unit_per_pix=0.065, fig_scaling=5)\n",
    "anim.add_label('A')\n",
    "anim.add_time_stamp('T', 10, location='lower left')"
   ]
  },
  {
   "cell_type": "code",
   "execution_count": 17,
   "id": "573cfa53",
   "metadata": {},
   "outputs": [
    {
     "data": {
      "application/vnd.jupyter.widget-view+json": {
       "model_id": "617bed81957c4fde86e25f29827f16e6",
       "version_major": 2,
       "version_minor": 0
      },
      "text/plain": [
       "VBox(children=(Output(), IntSlider(value=0, description='Time', max=29)))"
      ]
     },
     "metadata": {},
     "output_type": "display_data"
    }
   ],
   "source": [
    "anim.ui"
   ]
  },
  {
   "cell_type": "code",
   "execution_count": null,
   "id": "eff62340",
   "metadata": {},
   "outputs": [],
   "source": []
  }
 ],
 "metadata": {
  "kernelspec": {
   "display_name": "Python 3",
   "language": "python",
   "name": "python3"
  },
  "language_info": {
   "codemirror_mode": {
    "name": "ipython",
    "version": 3
   },
   "file_extension": ".py",
   "mimetype": "text/x-python",
   "name": "python",
   "nbconvert_exporter": "python",
   "pygments_lexer": "ipython3",
   "version": "3.9.2"
  },
  "toc": {
   "base_numbering": 1,
   "nav_menu": {},
   "number_sections": false,
   "sideBar": true,
   "skip_h1_title": false,
   "title_cell": "Table of Contents",
   "title_sidebar": "Contents",
   "toc_cell": false,
   "toc_position": {},
   "toc_section_display": true,
   "toc_window_display": false
  },
  "varInspector": {
   "cols": {
    "lenName": 16,
    "lenType": 16,
    "lenVar": 40
   },
   "kernels_config": {
    "python": {
     "delete_cmd_postfix": "",
     "delete_cmd_prefix": "del ",
     "library": "var_list.py",
     "varRefreshCmd": "print(var_dic_list())"
    },
    "r": {
     "delete_cmd_postfix": ") ",
     "delete_cmd_prefix": "rm(",
     "library": "var_list.r",
     "varRefreshCmd": "cat(var_dic_list()) "
    }
   },
   "types_to_exclude": [
    "module",
    "function",
    "builtin_function_or_method",
    "instance",
    "_Feature"
   ],
   "window_display": false
  },
  "widgets": {
   "application/vnd.jupyter.widget-state+json": {
    "state": {
     "0521ce64eb094899b6544f8d7ff44a2b": {
      "model_module": "@jupyter-widgets/base",
      "model_module_version": "1.2.0",
      "model_name": "LayoutModel",
      "state": {}
     },
     "0cac0b767df24930898b44824502a05a": {
      "model_module": "@jupyter-widgets/base",
      "model_module_version": "1.2.0",
      "model_name": "LayoutModel",
      "state": {}
     },
     "1053b928f3d543e18289050e25693e34": {
      "model_module": "@jupyter-widgets/output",
      "model_module_version": "1.0.0",
      "model_name": "OutputModel",
      "state": {
       "layout": "IPY_MODEL_652342ff6cc2461a9da15cda56e23a0f",
       "outputs": [
        {
         "data": {
          "application/vnd.jupyter.widget-view+json": {
           "model_id": "c89c2be9180e4a36b864273155c04ca7",
           "version_major": 2,
           "version_minor": 0
          },
          "text/plain": "Canvas(toolbar=Toolbar(toolitems=[('Home', 'Reset original view', 'home', 'home'), ('Back', 'Back to previous …"
         },
         "metadata": {},
         "output_type": "display_data"
        }
       ]
      }
     },
     "1585891688194fbeaffcde101d743020": {
      "model_module": "@jupyter-widgets/base",
      "model_module_version": "1.2.0",
      "model_name": "LayoutModel",
      "state": {}
     },
     "194b74a2efed415d95454f756638b20a": {
      "model_module": "jupyter-matplotlib",
      "model_module_version": "^0.9.0",
      "model_name": "ToolbarModel",
      "state": {
       "layout": "IPY_MODEL_7e49d223114c496e87a79b784f142625",
       "toolitems": [
        [
         "Home",
         "Reset original view",
         "home",
         "home"
        ],
        [
         "Back",
         "Back to previous view",
         "arrow-left",
         "back"
        ],
        [
         "Forward",
         "Forward to next view",
         "arrow-right",
         "forward"
        ],
        [
         "Pan",
         "Left button pans, Right button zooms\nx/y fixes axis, CTRL fixes aspect",
         "arrows",
         "pan"
        ],
        [
         "Zoom",
         "Zoom to rectangle\nx/y fixes axis, CTRL fixes aspect",
         "square-o",
         "zoom"
        ],
        [
         "Download",
         "Download plot",
         "floppy-o",
         "save_figure"
        ]
       ]
      }
     },
     "1a4e0c1471ee431f9a43b69dbc8f7e33": {
      "model_module": "@jupyter-widgets/base",
      "model_module_version": "1.2.0",
      "model_name": "LayoutModel",
      "state": {}
     },
     "235bd3247bb842cbaa8412c4e85527e5": {
      "model_module": "jupyter-matplotlib",
      "model_module_version": "^0.9.0",
      "model_name": "MPLCanvasModel",
      "state": {
       "_cursor": "default",
       "_figure_label": "Figure 2",
       "_height": 200,
       "_width": 153,
       "layout": "IPY_MODEL_dfafb8860e9a44b5b575c39bbbc75bbf",
       "toolbar": "IPY_MODEL_a11baabbac19414daeed515ba7ca867a",
       "toolbar_position": "left"
      }
     },
     "25ede7cddaf84493a3120698c85a62df": {
      "model_module": "jupyter-matplotlib",
      "model_module_version": "^0.9.0",
      "model_name": "ToolbarModel",
      "state": {
       "layout": "IPY_MODEL_1a4e0c1471ee431f9a43b69dbc8f7e33",
       "toolitems": [
        [
         "Home",
         "Reset original view",
         "home",
         "home"
        ],
        [
         "Back",
         "Back to previous view",
         "arrow-left",
         "back"
        ],
        [
         "Forward",
         "Forward to next view",
         "arrow-right",
         "forward"
        ],
        [
         "Pan",
         "Left button pans, Right button zooms\nx/y fixes axis, CTRL fixes aspect",
         "arrows",
         "pan"
        ],
        [
         "Zoom",
         "Zoom to rectangle\nx/y fixes axis, CTRL fixes aspect",
         "square-o",
         "zoom"
        ],
        [
         "Download",
         "Download plot",
         "floppy-o",
         "save_figure"
        ]
       ]
      }
     },
     "26fb6a7706884233b3650f58acd06ee1": {
      "model_module": "@jupyter-widgets/output",
      "model_module_version": "1.0.0",
      "model_name": "OutputModel",
      "state": {
       "layout": "IPY_MODEL_0521ce64eb094899b6544f8d7ff44a2b",
       "outputs": [
        {
         "data": {
          "application/vnd.jupyter.widget-view+json": {
           "model_id": "6226320a69cd4c729bbb927c12225693",
           "version_major": 2,
           "version_minor": 0
          },
          "text/plain": "Canvas(toolbar=Toolbar(toolitems=[('Home', 'Reset original view', 'home', 'home'), ('Back', 'Back to previous …"
         },
         "metadata": {},
         "output_type": "display_data"
        }
       ]
      }
     },
     "2953dedc91c540f39255f6d381a11b71": {
      "model_module": "@jupyter-widgets/base",
      "model_module_version": "1.2.0",
      "model_name": "LayoutModel",
      "state": {}
     },
     "2e1b34d38db64c94be67a33fd93a5c73": {
      "model_module": "@jupyter-widgets/base",
      "model_module_version": "1.2.0",
      "model_name": "LayoutModel",
      "state": {}
     },
     "3657957d50c34df08fcbc461c42dcf5a": {
      "model_module": "jupyter-matplotlib",
      "model_module_version": "^0.9.0",
      "model_name": "MPLCanvasModel",
      "state": {
       "_cursor": "default",
       "_figure_label": "Figure 3",
       "_height": 300,
       "_message": "x=100. y=214.3\n[0.0549, 0.0588, 0.0392, 1]",
       "_width": 230,
       "layout": "IPY_MODEL_c8e4ae4562f742e29456bbe799ab5dff",
       "toolbar": "IPY_MODEL_194b74a2efed415d95454f756638b20a",
       "toolbar_position": "left"
      }
     },
     "3dc230c4f67c48ee87eeb57cbd8df013": {
      "model_module": "@jupyter-widgets/controls",
      "model_module_version": "1.5.0",
      "model_name": "VBoxModel",
      "state": {
       "children": [
        "IPY_MODEL_9e8f208d1b654697a0684f9c0df7cee2",
        "IPY_MODEL_3f6c8deb9cd94b81acf503ff50f67ff7"
       ],
       "layout": "IPY_MODEL_9c8ff027221341b9b032986f024e8466"
      }
     },
     "3f6c8deb9cd94b81acf503ff50f67ff7": {
      "model_module": "@jupyter-widgets/controls",
      "model_module_version": "1.5.0",
      "model_name": "IntSliderModel",
      "state": {
       "description": "Time",
       "layout": "IPY_MODEL_c0b9df303cb24239b0d2e874703e4593",
       "max": 29,
       "style": "IPY_MODEL_684cdb29b5d54f06a50e2bb64c31ed08"
      }
     },
     "401c645ad9634ed6b1cce291cd4ab2b8": {
      "model_module": "@jupyter-widgets/output",
      "model_module_version": "1.0.0",
      "model_name": "OutputModel",
      "state": {
       "layout": "IPY_MODEL_2953dedc91c540f39255f6d381a11b71",
       "outputs": [
        {
         "data": {
          "application/vnd.jupyter.widget-view+json": {
           "model_id": "3657957d50c34df08fcbc461c42dcf5a",
           "version_major": 2,
           "version_minor": 0
          },
          "text/plain": "Canvas(toolbar=Toolbar(toolitems=[('Home', 'Reset original view', 'home', 'home'), ('Back', 'Back to previous …"
         },
         "metadata": {},
         "output_type": "display_data"
        }
       ]
      }
     },
     "44b0e62ec34a4b3fae47efe928e7a4f6": {
      "model_module": "@jupyter-widgets/controls",
      "model_module_version": "1.5.0",
      "model_name": "SliderStyleModel",
      "state": {
       "description_width": ""
      }
     },
     "44b436be73974f5593826b2d9b0e6c87": {
      "model_module": "@jupyter-widgets/controls",
      "model_module_version": "1.5.0",
      "model_name": "VBoxModel",
      "state": {
       "children": [
        "IPY_MODEL_26fb6a7706884233b3650f58acd06ee1",
        "IPY_MODEL_942968cb4a1c42d59378ae00c41e3759"
       ],
       "layout": "IPY_MODEL_9f8e63063dc6481da4735c9ebb3d604d"
      }
     },
     "46a3cbdd4fd447bdbf1a690da0f966f8": {
      "model_module": "@jupyter-widgets/base",
      "model_module_version": "1.2.0",
      "model_name": "LayoutModel",
      "state": {}
     },
     "617bed81957c4fde86e25f29827f16e6": {
      "model_module": "@jupyter-widgets/controls",
      "model_module_version": "1.5.0",
      "model_name": "VBoxModel",
      "state": {
       "children": [
        "IPY_MODEL_1053b928f3d543e18289050e25693e34",
        "IPY_MODEL_ab095a757dfe4fd39240ecb04518df71"
       ],
       "layout": "IPY_MODEL_b34c1aa9cad54611a269e9f124b094e4"
      }
     },
     "6226320a69cd4c729bbb927c12225693": {
      "model_module": "jupyter-matplotlib",
      "model_module_version": "^0.9.0",
      "model_name": "MPLCanvasModel",
      "state": {
       "_cursor": "default",
       "_figure_label": "Figure 1",
       "_height": 300,
       "_message": "x=144.0 y=192.3\n[0.0667, 0.0784, 0.0235, 1]",
       "_width": 230,
       "layout": "IPY_MODEL_1585891688194fbeaffcde101d743020",
       "toolbar": "IPY_MODEL_780edda37bed48df8e52b232b59e5ea1",
       "toolbar_position": "left"
      }
     },
     "62aadaac2c5c4ac8bf589d9fc7d15f75": {
      "model_module": "@jupyter-widgets/controls",
      "model_module_version": "1.5.0",
      "model_name": "SliderStyleModel",
      "state": {
       "description_width": ""
      }
     },
     "651e05db0cc94e09981cb13019e3b61d": {
      "model_module": "@jupyter-widgets/base",
      "model_module_version": "1.2.0",
      "model_name": "LayoutModel",
      "state": {}
     },
     "652342ff6cc2461a9da15cda56e23a0f": {
      "model_module": "@jupyter-widgets/base",
      "model_module_version": "1.2.0",
      "model_name": "LayoutModel",
      "state": {}
     },
     "684cdb29b5d54f06a50e2bb64c31ed08": {
      "model_module": "@jupyter-widgets/controls",
      "model_module_version": "1.5.0",
      "model_name": "SliderStyleModel",
      "state": {
       "description_width": ""
      }
     },
     "780edda37bed48df8e52b232b59e5ea1": {
      "model_module": "jupyter-matplotlib",
      "model_module_version": "^0.9.0",
      "model_name": "ToolbarModel",
      "state": {
       "layout": "IPY_MODEL_2e1b34d38db64c94be67a33fd93a5c73",
       "toolitems": [
        [
         "Home",
         "Reset original view",
         "home",
         "home"
        ],
        [
         "Back",
         "Back to previous view",
         "arrow-left",
         "back"
        ],
        [
         "Forward",
         "Forward to next view",
         "arrow-right",
         "forward"
        ],
        [
         "Pan",
         "Left button pans, Right button zooms\nx/y fixes axis, CTRL fixes aspect",
         "arrows",
         "pan"
        ],
        [
         "Zoom",
         "Zoom to rectangle\nx/y fixes axis, CTRL fixes aspect",
         "square-o",
         "zoom"
        ],
        [
         "Download",
         "Download plot",
         "floppy-o",
         "save_figure"
        ]
       ]
      }
     },
     "7bfdec8754d84645a8675e420512487f": {
      "model_module": "@jupyter-widgets/controls",
      "model_module_version": "1.5.0",
      "model_name": "SliderStyleModel",
      "state": {
       "description_width": ""
      }
     },
     "7ca03af6f4144b8b9b8912865cd86992": {
      "model_module": "@jupyter-widgets/base",
      "model_module_version": "1.2.0",
      "model_name": "LayoutModel",
      "state": {}
     },
     "7e49d223114c496e87a79b784f142625": {
      "model_module": "@jupyter-widgets/base",
      "model_module_version": "1.2.0",
      "model_name": "LayoutModel",
      "state": {}
     },
     "898f432aa864491ba027ee94073ce101": {
      "model_module": "@jupyter-widgets/base",
      "model_module_version": "1.2.0",
      "model_name": "LayoutModel",
      "state": {}
     },
     "942968cb4a1c42d59378ae00c41e3759": {
      "model_module": "@jupyter-widgets/controls",
      "model_module_version": "1.5.0",
      "model_name": "IntSliderModel",
      "state": {
       "description": "Time",
       "layout": "IPY_MODEL_0cac0b767df24930898b44824502a05a",
       "max": 29,
       "style": "IPY_MODEL_44b0e62ec34a4b3fae47efe928e7a4f6"
      }
     },
     "9c8ff027221341b9b032986f024e8466": {
      "model_module": "@jupyter-widgets/base",
      "model_module_version": "1.2.0",
      "model_name": "LayoutModel",
      "state": {}
     },
     "9e8f208d1b654697a0684f9c0df7cee2": {
      "model_module": "@jupyter-widgets/output",
      "model_module_version": "1.0.0",
      "model_name": "OutputModel",
      "state": {
       "layout": "IPY_MODEL_e6e7389989fe4553b6eeb1d19216a3c4",
       "outputs": [
        {
         "data": {
          "application/vnd.jupyter.widget-view+json": {
           "model_id": "235bd3247bb842cbaa8412c4e85527e5",
           "version_major": 2,
           "version_minor": 0
          },
          "text/plain": "Canvas(toolbar=Toolbar(toolitems=[('Home', 'Reset original view', 'home', 'home'), ('Back', 'Back to previous …"
         },
         "metadata": {},
         "output_type": "display_data"
        }
       ]
      }
     },
     "9f8e63063dc6481da4735c9ebb3d604d": {
      "model_module": "@jupyter-widgets/base",
      "model_module_version": "1.2.0",
      "model_name": "LayoutModel",
      "state": {}
     },
     "a11baabbac19414daeed515ba7ca867a": {
      "model_module": "jupyter-matplotlib",
      "model_module_version": "^0.9.0",
      "model_name": "ToolbarModel",
      "state": {
       "layout": "IPY_MODEL_898f432aa864491ba027ee94073ce101",
       "toolitems": [
        [
         "Home",
         "Reset original view",
         "home",
         "home"
        ],
        [
         "Back",
         "Back to previous view",
         "arrow-left",
         "back"
        ],
        [
         "Forward",
         "Forward to next view",
         "arrow-right",
         "forward"
        ],
        [
         "Pan",
         "Left button pans, Right button zooms\nx/y fixes axis, CTRL fixes aspect",
         "arrows",
         "pan"
        ],
        [
         "Zoom",
         "Zoom to rectangle\nx/y fixes axis, CTRL fixes aspect",
         "square-o",
         "zoom"
        ],
        [
         "Download",
         "Download plot",
         "floppy-o",
         "save_figure"
        ]
       ]
      }
     },
     "a7035668b7f544b2a83db6405fc01806": {
      "model_module": "@jupyter-widgets/controls",
      "model_module_version": "1.5.0",
      "model_name": "VBoxModel",
      "state": {
       "children": [
        "IPY_MODEL_401c645ad9634ed6b1cce291cd4ab2b8",
        "IPY_MODEL_cd3b694cadc54ecb8c655fab2c461390"
       ],
       "layout": "IPY_MODEL_46a3cbdd4fd447bdbf1a690da0f966f8"
      }
     },
     "ab095a757dfe4fd39240ecb04518df71": {
      "model_module": "@jupyter-widgets/controls",
      "model_module_version": "1.5.0",
      "model_name": "IntSliderModel",
      "state": {
       "description": "Time",
       "layout": "IPY_MODEL_7ca03af6f4144b8b9b8912865cd86992",
       "max": 29,
       "style": "IPY_MODEL_62aadaac2c5c4ac8bf589d9fc7d15f75"
      }
     },
     "b34c1aa9cad54611a269e9f124b094e4": {
      "model_module": "@jupyter-widgets/base",
      "model_module_version": "1.2.0",
      "model_name": "LayoutModel",
      "state": {}
     },
     "b39ebbb3849f4b53ad823eeb7f6eb856": {
      "model_module": "@jupyter-widgets/base",
      "model_module_version": "1.2.0",
      "model_name": "LayoutModel",
      "state": {}
     },
     "c0b9df303cb24239b0d2e874703e4593": {
      "model_module": "@jupyter-widgets/base",
      "model_module_version": "1.2.0",
      "model_name": "LayoutModel",
      "state": {}
     },
     "c89c2be9180e4a36b864273155c04ca7": {
      "model_module": "jupyter-matplotlib",
      "model_module_version": "^0.9.0",
      "model_name": "MPLCanvasModel",
      "state": {
       "_cursor": "default",
       "_figure_label": "Figure 4",
       "_height": 500,
       "_message": "x=80.9 y=29.1\n[0.0235, 0.0667, 0, 1]",
       "_width": 384,
       "layout": "IPY_MODEL_b39ebbb3849f4b53ad823eeb7f6eb856",
       "toolbar": "IPY_MODEL_25ede7cddaf84493a3120698c85a62df",
       "toolbar_position": "left"
      }
     },
     "c8e4ae4562f742e29456bbe799ab5dff": {
      "model_module": "@jupyter-widgets/base",
      "model_module_version": "1.2.0",
      "model_name": "LayoutModel",
      "state": {}
     },
     "cd3b694cadc54ecb8c655fab2c461390": {
      "model_module": "@jupyter-widgets/controls",
      "model_module_version": "1.5.0",
      "model_name": "IntSliderModel",
      "state": {
       "description": "Time",
       "layout": "IPY_MODEL_651e05db0cc94e09981cb13019e3b61d",
       "max": 29,
       "style": "IPY_MODEL_7bfdec8754d84645a8675e420512487f"
      }
     },
     "dfafb8860e9a44b5b575c39bbbc75bbf": {
      "model_module": "@jupyter-widgets/base",
      "model_module_version": "1.2.0",
      "model_name": "LayoutModel",
      "state": {}
     },
     "e6e7389989fe4553b6eeb1d19216a3c4": {
      "model_module": "@jupyter-widgets/base",
      "model_module_version": "1.2.0",
      "model_name": "LayoutModel",
      "state": {}
     }
    },
    "version_major": 2,
    "version_minor": 0
   }
  }
 },
 "nbformat": 4,
 "nbformat_minor": 5
}
