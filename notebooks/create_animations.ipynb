{
 "cells": [
  {
   "cell_type": "markdown",
   "id": "9c10ed7f",
   "metadata": {},
   "source": [
    "# Creating animations\n",
    "\n",
    "While the ```microplot``` module allows one to create single-frame multi-channel images with annotations, the ```microanim``` module allows one to create interactive plots and save animations of time-lapse versions of such plots. Both modules use an almost identical set of options to render the images and add annotations. "
   ]
  },
  {
   "cell_type": "code",
   "execution_count": 1,
   "id": "a32d0ada-0cf6-4e4a-b236-499471382001",
   "metadata": {},
   "outputs": [],
   "source": [
    "#%load_ext autoreload\n",
    "#%autoreload 2"
   ]
  },
  {
   "cell_type": "markdown",
   "id": "cf0bc2d1",
   "metadata": {},
   "source": [
    "## Dataset\n",
    "\n",
    "To create an animation, you need a dataset containing multiple frames. As dataset, you can either use a Numpy array with shape CTXY or use one of the ```dataset``` classes. We start with the simplest case of an array and load a complete stack that we reshape:"
   ]
  },
  {
   "cell_type": "code",
   "execution_count": 2,
   "id": "b419186f-9bd0-4028-858c-1a4ad21e4a25",
   "metadata": {},
   "outputs": [],
   "source": [
    "import matplotlib.pyplot as plt\n",
    "import numpy as np\n",
    "import skimage.io"
   ]
  },
  {
   "cell_type": "code",
   "execution_count": 3,
   "id": "627acb2a",
   "metadata": {},
   "outputs": [],
   "source": [
    "image = skimage.io.imread('../demodata/coli_nucl_ori_ter.tif')"
   ]
  },
  {
   "cell_type": "markdown",
   "id": "e7753beb",
   "metadata": {},
   "source": [
    "## Create the animation object\n",
    "\n",
    "Now we can use default settings to create an animation object. For that we only need the dataset, here in the form of a Numpy array. **If you use such a Numpy array, by default all channels are plotted. If you don't want that either create a dataset object (see later) or slice your array**.\n",
    "\n",
    "We will have access to some interactivity to scroll through the frames. So before we start we need to activate Matplotlib's interactive widget mode:"
   ]
  },
  {
   "cell_type": "code",
   "execution_count": 4,
   "id": "d1289760",
   "metadata": {},
   "outputs": [],
   "source": [
    "%matplotlib widget"
   ]
  },
  {
   "cell_type": "code",
   "execution_count": 5,
   "id": "7d594d83",
   "metadata": {},
   "outputs": [],
   "source": [
    "from microfilm.microanim import Microanim"
   ]
  },
  {
   "cell_type": "code",
   "execution_count": 6,
   "id": "26308894",
   "metadata": {},
   "outputs": [
    {
     "data": {
      "text/plain": [
       "(3, 30, 220, 169)"
      ]
     },
     "execution_count": 6,
     "metadata": {},
     "output_type": "execute_result"
    }
   ],
   "source": [
    "image.shape"
   ]
  },
  {
   "cell_type": "markdown",
   "id": "d20efdf1",
   "metadata": {},
   "source": [
    "Now we can create the animation object. The animation object takes the same arguments as the ```Microimage``` object. The main difference is that you need to provide in addition a ```data``` parameter which represents your time-lapse images. The ```data``` can be either one of the ```microfilm.dataset``` objects or a simple Numpy array with dimensions ```C x Z x X x Y``` like ```image``` used here:"
   ]
  },
  {
   "cell_type": "code",
   "execution_count": 7,
   "id": "b0cd1b2d",
   "metadata": {},
   "outputs": [],
   "source": [
    "anim = Microanim(data=image, cmaps=['pure_blue','pure_red', 'pure_green'])"
   ]
  },
  {
   "cell_type": "markdown",
   "id": "c97e37bf",
   "metadata": {},
   "source": [
    "## Interactive object\n",
    "\n",
    "To display our time-lapse image and browse through it, we the simply call the ```ui``` of the object:"
   ]
  },
  {
   "cell_type": "code",
   "execution_count": 8,
   "id": "c4aba78e",
   "metadata": {},
   "outputs": [
    {
     "data": {
      "application/vnd.jupyter.widget-view+json": {
       "model_id": "4b966709094345239836291bbba32024",
       "version_major": 2,
       "version_minor": 0
      },
      "text/plain": [
       "VBox(children=(Output(), IntSlider(value=0, description='Time', max=29)))"
      ]
     },
     "metadata": {},
     "output_type": "display_data"
    }
   ],
   "source": [
    "anim.ui"
   ]
  },
  {
   "cell_type": "markdown",
   "id": "f71cb42f",
   "metadata": {},
   "source": [
    "## Customizing the plot\n",
    "\n",
    "As mentioned before, you have access to almost all options that you can use in ```microshow``` for the animation. Here's an example where we pick a specific color map per channel, add a scale bar and adjust the plot size:"
   ]
  },
  {
   "cell_type": "code",
   "execution_count": 9,
   "id": "7a8e4646",
   "metadata": {},
   "outputs": [
    {
     "data": {
      "application/vnd.jupyter.widget-view+json": {
       "model_id": "83c63f7d0f79483e86b15633cef58ef4",
       "version_major": 2,
       "version_minor": 0
      },
      "text/plain": [
       "VBox(children=(Output(), IntSlider(value=0, description='Time', max=29)))"
      ]
     },
     "metadata": {},
     "output_type": "display_data"
    }
   ],
   "source": [
    "anim = Microanim(data=image, cmaps=['pure_blue','pure_red', 'pure_green'],\n",
    "                unit='um', scalebar_size_in_units=4, scalebar_unit_per_pix=0.065, fig_scaling=2)\n",
    "anim.ui"
   ]
  },
  {
   "cell_type": "markdown",
   "id": "e3727f68",
   "metadata": {},
   "source": [
    "### Access to microim\n",
    "\n",
    "As the animation object is very similar to the simple plot object, you get also access to the same underlying methods e.g. to add a label:"
   ]
  },
  {
   "cell_type": "code",
   "execution_count": 10,
   "id": "dc82a734",
   "metadata": {},
   "outputs": [
    {
     "data": {
      "application/vnd.jupyter.widget-view+json": {
       "model_id": "83c63f7d0f79483e86b15633cef58ef4",
       "version_major": 2,
       "version_minor": 0
      },
      "text/plain": [
       "VBox(children=(Output(), IntSlider(value=0, description='Time', max=29)))"
      ]
     },
     "metadata": {},
     "output_type": "display_data"
    }
   ],
   "source": [
    "anim.add_label('a comment', label_location='upper right');\n",
    "anim.ui"
   ]
  },
  {
   "cell_type": "markdown",
   "id": "fe00c3ac",
   "metadata": {},
   "source": [
    "And again, you also get access to the underlying Matplotlib objects like axis:"
   ]
  },
  {
   "cell_type": "code",
   "execution_count": 11,
   "id": "64cf4507",
   "metadata": {},
   "outputs": [
    {
     "data": {
      "application/vnd.jupyter.widget-view+json": {
       "model_id": "83c63f7d0f79483e86b15633cef58ef4",
       "version_major": 2,
       "version_minor": 0
      },
      "text/plain": [
       "VBox(children=(Output(), IntSlider(value=0, description='Time', max=29)))"
      ]
     },
     "metadata": {},
     "output_type": "display_data"
    }
   ],
   "source": [
    "anim.ax.set_aspect(0.7)\n",
    "anim.ui"
   ]
  },
  {
   "cell_type": "markdown",
   "id": "010148f7",
   "metadata": {},
   "source": [
    "## Adding a time-stamp\n",
    "\n",
    "As a specific feature for animations, you can add a specific label which is a time stamp. At the moment you are limited to use a ```HH:MM:SS``` format. To add it to your plot, you just specify the unit (e.g. ```T``` for minutes, abbreviations are from Pandas), and the number of units per time frame e.g. here 5min:"
   ]
  },
  {
   "cell_type": "code",
   "execution_count": 12,
   "id": "03407c4d",
   "metadata": {},
   "outputs": [
    {
     "data": {
      "application/vnd.jupyter.widget-view+json": {
       "model_id": "bf12a939076d47a5981b8cf3be6324b1",
       "version_major": 2,
       "version_minor": 0
      },
      "text/plain": [
       "VBox(children=(Output(), IntSlider(value=0, description='Time', max=29)))"
      ]
     },
     "metadata": {},
     "output_type": "display_data"
    }
   ],
   "source": [
    "anim = Microanim(data=image, cmaps=['pure_blue','pure_red', 'pure_green'],\n",
    "                unit='um', scalebar_size_in_units=4, scalebar_unit_per_pix=0.065, fig_scaling=3)\n",
    "anim.add_time_stamp('T', 10, location='lower left')\n",
    "anim.ui"
   ]
  },
  {
   "cell_type": "markdown",
   "id": "1a4945ac",
   "metadata": {},
   "source": [
    "Just like for regular plots, you may want to create animations with multiple panels. This is done in the same way as for figures, by assembling pre-made single animations. Find more information in [this section](create_panels.ipynb)."
   ]
  },
  {
   "cell_type": "markdown",
   "id": "ef56544b",
   "metadata": {},
   "source": [
    "## Exporting the animation\n",
    "\n",
    "Once you are satisfied with your movie, you may want to export it to integrate it e.g. in a presentation. You can do that easily using the ```save_movie``` method. You can specify the image quality and the frames per second for various movie formats (.mov, .avi, .mpg, .mpeg, .mp4, .mkv, .wmv) and the image format is simply recovered from the file name. You can also export as gif, but don't have access to the ```quality``` option there:"
   ]
  },
  {
   "cell_type": "code",
   "execution_count": 13,
   "id": "885eec25",
   "metadata": {},
   "outputs": [
    {
     "name": "stderr",
     "output_type": "stream",
     "text": [
      "[WARNING: _io: 411 2021-06-27 15:03:37,500] IMAGEIO FFMPEG_WRITER WARNING: input image is not divisible by macro_block_size=16, resizing from (230, 300) to (240, 304) to ensure video compatibility with most codecs and players. To prevent resizing, make your input image divisible by the macro_block_size or set the macro_block_size to 1 (risking incompatibility).\n"
     ]
    }
   ],
   "source": [
    "anim.save_movie('movie.mp4', fps=15, quality=5)"
   ]
  },
  {
   "cell_type": "code",
   "execution_count": 14,
   "id": "0d2fe97c",
   "metadata": {},
   "outputs": [],
   "source": [
    "anim.save_movie('movie.gif', fps=15)"
   ]
  },
  {
   "cell_type": "markdown",
   "id": "92b66340",
   "metadata": {},
   "source": [
    "## Using the dataset class\n",
    "\n",
    "Instead of a plain Numpy array you can pass one of the ```dataset``` objects to the animation constructor. You have here the additional flexibility of choosing which channels to plot for example. Also, if you deal with large images, it is favorable to use a format such as H5 where not the full dataset is loaded into memory.\n",
    "\n",
    "We keep our simple example, and transform our Numpy array into a ```dataset```. We can specify a name for each channel. Here again, the array format **has to be CTXY**."
   ]
  },
  {
   "cell_type": "code",
   "execution_count": 15,
   "id": "4d98a88d",
   "metadata": {},
   "outputs": [],
   "source": [
    "from microfilm.dataset import Nparray\n",
    "\n",
    "data = Nparray(nparray=image, channel_name=['nucleoid', 'ori', 'ter'])"
   ]
  },
  {
   "cell_type": "markdown",
   "id": "3e1c4b7a",
   "metadata": {},
   "source": [
    "Now we can explicitly specify which channels to plot. For example if you just want a single channel:"
   ]
  },
  {
   "cell_type": "code",
   "execution_count": 16,
   "id": "d7b7b41f",
   "metadata": {},
   "outputs": [],
   "source": [
    "anim = Microanim(data=data, channels=['nucleoid','ori'], cmaps=['pure_red','pure_green'],\n",
    "                unit='um', scalebar_size_in_units=4, scalebar_unit_per_pix=0.065, fig_scaling=5)\n",
    "anim.add_label('A')\n",
    "anim.add_time_stamp('T', 10, location='lower left')"
   ]
  },
  {
   "cell_type": "code",
   "execution_count": 17,
   "id": "573cfa53",
   "metadata": {},
   "outputs": [
    {
     "data": {
      "application/vnd.jupyter.widget-view+json": {
       "model_id": "af989119417843249e36eac756f952d7",
       "version_major": 2,
       "version_minor": 0
      },
      "text/plain": [
       "VBox(children=(Output(), IntSlider(value=0, description='Time', max=29)))"
      ]
     },
     "metadata": {},
     "output_type": "display_data"
    }
   ],
   "source": [
    "anim.ui"
   ]
  },
  {
   "cell_type": "code",
   "execution_count": null,
   "id": "eff62340",
   "metadata": {},
   "outputs": [],
   "source": []
  }
 ],
 "metadata": {
  "kernelspec": {
   "display_name": "Python 3",
   "language": "python",
   "name": "python3"
  },
  "language_info": {
   "codemirror_mode": {
    "name": "ipython",
    "version": 3
   },
   "file_extension": ".py",
   "mimetype": "text/x-python",
   "name": "python",
   "nbconvert_exporter": "python",
   "pygments_lexer": "ipython3",
   "version": "3.9.2"
  },
  "toc": {
   "base_numbering": 1,
   "nav_menu": {},
   "number_sections": false,
   "sideBar": true,
   "skip_h1_title": false,
   "title_cell": "Table of Contents",
   "title_sidebar": "Contents",
   "toc_cell": false,
   "toc_position": {},
   "toc_section_display": true,
   "toc_window_display": false
  },
  "varInspector": {
   "cols": {
    "lenName": 16,
    "lenType": 16,
    "lenVar": 40
   },
   "kernels_config": {
    "python": {
     "delete_cmd_postfix": "",
     "delete_cmd_prefix": "del ",
     "library": "var_list.py",
     "varRefreshCmd": "print(var_dic_list())"
    },
    "r": {
     "delete_cmd_postfix": ") ",
     "delete_cmd_prefix": "rm(",
     "library": "var_list.r",
     "varRefreshCmd": "cat(var_dic_list()) "
    }
   },
   "types_to_exclude": [
    "module",
    "function",
    "builtin_function_or_method",
    "instance",
    "_Feature"
   ],
   "window_display": false
  },
  "widgets": {
   "application/vnd.jupyter.widget-state+json": {
    "state": {
     "01fae50e8e50421c8114f24b127a445b": {
      "model_module": "@jupyter-widgets/controls",
      "model_module_version": "1.5.0",
      "model_name": "IntSliderModel",
      "state": {
       "description": "Time",
       "layout": "IPY_MODEL_79cf6f483f6c43618d4f85cc5711a077",
       "max": 29,
       "style": "IPY_MODEL_c15e1e11c2ab4c9fb63883e3d43a485a"
      }
     },
     "02d9bbb4a3c948f4bf5a6ef740259df1": {
      "model_module": "@jupyter-widgets/controls",
      "model_module_version": "1.5.0",
      "model_name": "IntSliderModel",
      "state": {
       "description": "Time",
       "layout": "IPY_MODEL_4f1f03a79920414c9e0a4251ddea7055",
       "max": 29,
       "style": "IPY_MODEL_f6e380bdf588448a9ab63701c0ffdecf"
      }
     },
     "13c0b1a25afe4fd39f8beb5609f63213": {
      "model_module": "@jupyter-widgets/base",
      "model_module_version": "1.2.0",
      "model_name": "LayoutModel",
      "state": {}
     },
     "1aa47e82240e460dbb498406aecfa520": {
      "model_module": "@jupyter-widgets/base",
      "model_module_version": "1.2.0",
      "model_name": "LayoutModel",
      "state": {}
     },
     "212b769d38124e98ae0d9377abde6d54": {
      "model_module": "@jupyter-widgets/base",
      "model_module_version": "1.2.0",
      "model_name": "LayoutModel",
      "state": {}
     },
     "2b288efe28024a2f804159d5c95aa1ac": {
      "model_module": "@jupyter-widgets/output",
      "model_module_version": "1.0.0",
      "model_name": "OutputModel",
      "state": {
       "layout": "IPY_MODEL_9aebb3b509d74304a60da407859a4a84",
       "outputs": [
        {
         "data": {
          "application/vnd.jupyter.widget-view+json": {
           "model_id": "5284a7f33f314ff0938e3ba07131fdd3",
           "version_major": 2,
           "version_minor": 0
          },
          "text/plain": "Canvas(toolbar=Toolbar(toolitems=[('Home', 'Reset original view', 'home', 'home'), ('Back', 'Back to previous …"
         },
         "metadata": {},
         "output_type": "display_data"
        }
       ]
      }
     },
     "2e0897183836498abb10f3eed27060c6": {
      "model_module": "@jupyter-widgets/controls",
      "model_module_version": "1.5.0",
      "model_name": "IntSliderModel",
      "state": {
       "description": "Time",
       "layout": "IPY_MODEL_fcfddd810b4c47bfb17e51755eaad1e3",
       "max": 29,
       "style": "IPY_MODEL_9de324496abf4d07abbf1cb747bee751"
      }
     },
     "3659894096b843838ab221f9c684cadf": {
      "model_module": "@jupyter-widgets/controls",
      "model_module_version": "1.5.0",
      "model_name": "IntSliderModel",
      "state": {
       "description": "Time",
       "layout": "IPY_MODEL_60f0645f983141df9344cd05ad2a6514",
       "max": 29,
       "style": "IPY_MODEL_a075877a14c24015b72fc01c1e2e21ba"
      }
     },
     "37f9c56333e24769b3ab88b94fa73152": {
      "model_module": "@jupyter-widgets/base",
      "model_module_version": "1.2.0",
      "model_name": "LayoutModel",
      "state": {}
     },
     "391863d457804bc9951fe89296a53b60": {
      "model_module": "jupyter-matplotlib",
      "model_module_version": "^0.9.0",
      "model_name": "MPLCanvasModel",
      "state": {
       "_cursor": "default",
       "_figure_label": "Figure 2",
       "_height": 200,
       "_width": 153,
       "layout": "IPY_MODEL_1aa47e82240e460dbb498406aecfa520",
       "toolbar": "IPY_MODEL_f5d15d1d0d9d4eda9e1e673eb5739302",
       "toolbar_position": "left"
      }
     },
     "3f3a1b6184e64b449bda3eacc21d39f9": {
      "model_module": "@jupyter-widgets/output",
      "model_module_version": "1.0.0",
      "model_name": "OutputModel",
      "state": {
       "layout": "IPY_MODEL_862b6c9c049f4f8da362e641411f3139",
       "outputs": [
        {
         "data": {
          "application/vnd.jupyter.widget-view+json": {
           "model_id": "f04364a47a8f4367ada1637efac3854d",
           "version_major": 2,
           "version_minor": 0
          },
          "text/plain": "Canvas(toolbar=Toolbar(toolitems=[('Home', 'Reset original view', 'home', 'home'), ('Back', 'Back to previous …"
         },
         "metadata": {},
         "output_type": "display_data"
        }
       ]
      }
     },
     "4b966709094345239836291bbba32024": {
      "model_module": "@jupyter-widgets/controls",
      "model_module_version": "1.5.0",
      "model_name": "VBoxModel",
      "state": {
       "children": [
        "IPY_MODEL_2b288efe28024a2f804159d5c95aa1ac",
        "IPY_MODEL_2e0897183836498abb10f3eed27060c6"
       ],
       "layout": "IPY_MODEL_13c0b1a25afe4fd39f8beb5609f63213"
      }
     },
     "4cda147cc67a4413971e2b893a402af5": {
      "model_module": "jupyter-matplotlib",
      "model_module_version": "^0.9.0",
      "model_name": "MPLCanvasModel",
      "state": {
       "_cursor": "default",
       "_figure_label": "Figure 3",
       "_height": 300,
       "_image_mode": "diff",
       "_width": 230,
       "layout": "IPY_MODEL_7001f7b25cfc4656a7dfd11451776dfa",
       "toolbar": "IPY_MODEL_99e10a5458f74a9197aa8f5fc8252ace",
       "toolbar_position": "left"
      }
     },
     "4f1f03a79920414c9e0a4251ddea7055": {
      "model_module": "@jupyter-widgets/base",
      "model_module_version": "1.2.0",
      "model_name": "LayoutModel",
      "state": {}
     },
     "5284a7f33f314ff0938e3ba07131fdd3": {
      "model_module": "jupyter-matplotlib",
      "model_module_version": "^0.9.0",
      "model_name": "MPLCanvasModel",
      "state": {
       "_cursor": "default",
       "_figure_label": "Figure 1",
       "_height": 300,
       "_width": 230,
       "layout": "IPY_MODEL_5b80c80156044bfd969230be4263e3b6",
       "toolbar": "IPY_MODEL_d92c12d49e14442bb2cc879895f01527",
       "toolbar_position": "left"
      }
     },
     "58bcde6de33a46bba12f1db558fc1456": {
      "model_module": "@jupyter-widgets/base",
      "model_module_version": "1.2.0",
      "model_name": "LayoutModel",
      "state": {}
     },
     "5b80c80156044bfd969230be4263e3b6": {
      "model_module": "@jupyter-widgets/base",
      "model_module_version": "1.2.0",
      "model_name": "LayoutModel",
      "state": {}
     },
     "60f0645f983141df9344cd05ad2a6514": {
      "model_module": "@jupyter-widgets/base",
      "model_module_version": "1.2.0",
      "model_name": "LayoutModel",
      "state": {}
     },
     "6fc1f59d20bb4c12a01a9e7bebb4cccc": {
      "model_module": "jupyter-matplotlib",
      "model_module_version": "^0.9.0",
      "model_name": "ToolbarModel",
      "state": {
       "layout": "IPY_MODEL_c7825650eba64feabb8261fd636f14ad",
       "toolitems": [
        [
         "Home",
         "Reset original view",
         "home",
         "home"
        ],
        [
         "Back",
         "Back to previous view",
         "arrow-left",
         "back"
        ],
        [
         "Forward",
         "Forward to next view",
         "arrow-right",
         "forward"
        ],
        [
         "Pan",
         "Left button pans, Right button zooms\nx/y fixes axis, CTRL fixes aspect",
         "arrows",
         "pan"
        ],
        [
         "Zoom",
         "Zoom to rectangle\nx/y fixes axis, CTRL fixes aspect",
         "square-o",
         "zoom"
        ],
        [
         "Download",
         "Download plot",
         "floppy-o",
         "save_figure"
        ]
       ]
      }
     },
     "7001f7b25cfc4656a7dfd11451776dfa": {
      "model_module": "@jupyter-widgets/base",
      "model_module_version": "1.2.0",
      "model_name": "LayoutModel",
      "state": {}
     },
     "79cf6f483f6c43618d4f85cc5711a077": {
      "model_module": "@jupyter-widgets/base",
      "model_module_version": "1.2.0",
      "model_name": "LayoutModel",
      "state": {}
     },
     "83c63f7d0f79483e86b15633cef58ef4": {
      "model_module": "@jupyter-widgets/controls",
      "model_module_version": "1.5.0",
      "model_name": "VBoxModel",
      "state": {
       "children": [
        "IPY_MODEL_c00d2c3d17c2412590836c0a7b53b7b6",
        "IPY_MODEL_3659894096b843838ab221f9c684cadf"
       ],
       "layout": "IPY_MODEL_58bcde6de33a46bba12f1db558fc1456"
      }
     },
     "862b6c9c049f4f8da362e641411f3139": {
      "model_module": "@jupyter-widgets/base",
      "model_module_version": "1.2.0",
      "model_name": "LayoutModel",
      "state": {}
     },
     "99e10a5458f74a9197aa8f5fc8252ace": {
      "model_module": "jupyter-matplotlib",
      "model_module_version": "^0.9.0",
      "model_name": "ToolbarModel",
      "state": {
       "layout": "IPY_MODEL_9ed261403f3b4236831c515e4df90ff1",
       "toolitems": [
        [
         "Home",
         "Reset original view",
         "home",
         "home"
        ],
        [
         "Back",
         "Back to previous view",
         "arrow-left",
         "back"
        ],
        [
         "Forward",
         "Forward to next view",
         "arrow-right",
         "forward"
        ],
        [
         "Pan",
         "Left button pans, Right button zooms\nx/y fixes axis, CTRL fixes aspect",
         "arrows",
         "pan"
        ],
        [
         "Zoom",
         "Zoom to rectangle\nx/y fixes axis, CTRL fixes aspect",
         "square-o",
         "zoom"
        ],
        [
         "Download",
         "Download plot",
         "floppy-o",
         "save_figure"
        ]
       ]
      }
     },
     "9aebb3b509d74304a60da407859a4a84": {
      "model_module": "@jupyter-widgets/base",
      "model_module_version": "1.2.0",
      "model_name": "LayoutModel",
      "state": {}
     },
     "9de324496abf4d07abbf1cb747bee751": {
      "model_module": "@jupyter-widgets/controls",
      "model_module_version": "1.5.0",
      "model_name": "SliderStyleModel",
      "state": {
       "description_width": ""
      }
     },
     "9ed261403f3b4236831c515e4df90ff1": {
      "model_module": "@jupyter-widgets/base",
      "model_module_version": "1.2.0",
      "model_name": "LayoutModel",
      "state": {}
     },
     "a075877a14c24015b72fc01c1e2e21ba": {
      "model_module": "@jupyter-widgets/controls",
      "model_module_version": "1.5.0",
      "model_name": "SliderStyleModel",
      "state": {
       "description_width": ""
      }
     },
     "a5697cb202b74802be422b655bb33320": {
      "model_module": "@jupyter-widgets/base",
      "model_module_version": "1.2.0",
      "model_name": "LayoutModel",
      "state": {}
     },
     "af989119417843249e36eac756f952d7": {
      "model_module": "@jupyter-widgets/controls",
      "model_module_version": "1.5.0",
      "model_name": "VBoxModel",
      "state": {
       "children": [
        "IPY_MODEL_3f3a1b6184e64b449bda3eacc21d39f9",
        "IPY_MODEL_02d9bbb4a3c948f4bf5a6ef740259df1"
       ],
       "layout": "IPY_MODEL_212b769d38124e98ae0d9377abde6d54"
      }
     },
     "bf12a939076d47a5981b8cf3be6324b1": {
      "model_module": "@jupyter-widgets/controls",
      "model_module_version": "1.5.0",
      "model_name": "VBoxModel",
      "state": {
       "children": [
        "IPY_MODEL_cc452c38f988474ca4f4ac98d756dc7d",
        "IPY_MODEL_01fae50e8e50421c8114f24b127a445b"
       ],
       "layout": "IPY_MODEL_a5697cb202b74802be422b655bb33320"
      }
     },
     "c00d2c3d17c2412590836c0a7b53b7b6": {
      "model_module": "@jupyter-widgets/output",
      "model_module_version": "1.0.0",
      "model_name": "OutputModel",
      "state": {
       "layout": "IPY_MODEL_d994b0810af44af4bb396c7e8f521c09",
       "outputs": [
        {
         "data": {
          "application/vnd.jupyter.widget-view+json": {
           "model_id": "391863d457804bc9951fe89296a53b60",
           "version_major": 2,
           "version_minor": 0
          },
          "text/plain": "Canvas(toolbar=Toolbar(toolitems=[('Home', 'Reset original view', 'home', 'home'), ('Back', 'Back to previous …"
         },
         "metadata": {},
         "output_type": "display_data"
        }
       ]
      }
     },
     "c15e1e11c2ab4c9fb63883e3d43a485a": {
      "model_module": "@jupyter-widgets/controls",
      "model_module_version": "1.5.0",
      "model_name": "SliderStyleModel",
      "state": {
       "description_width": ""
      }
     },
     "c7825650eba64feabb8261fd636f14ad": {
      "model_module": "@jupyter-widgets/base",
      "model_module_version": "1.2.0",
      "model_name": "LayoutModel",
      "state": {}
     },
     "cc452c38f988474ca4f4ac98d756dc7d": {
      "model_module": "@jupyter-widgets/output",
      "model_module_version": "1.0.0",
      "model_name": "OutputModel",
      "state": {
       "layout": "IPY_MODEL_e3f1c4247b93448c8d56fb61d07eee15",
       "outputs": [
        {
         "data": {
          "application/vnd.jupyter.widget-view+json": {
           "model_id": "4cda147cc67a4413971e2b893a402af5",
           "version_major": 2,
           "version_minor": 0
          },
          "text/plain": "Canvas(toolbar=Toolbar(toolitems=[('Home', 'Reset original view', 'home', 'home'), ('Back', 'Back to previous …"
         },
         "metadata": {},
         "output_type": "display_data"
        }
       ]
      }
     },
     "d0b26d0d1ae54b54ba2b6dd461bf33b4": {
      "model_module": "@jupyter-widgets/base",
      "model_module_version": "1.2.0",
      "model_name": "LayoutModel",
      "state": {}
     },
     "d707f65bb5ae4268bcb7523535955c4f": {
      "model_module": "@jupyter-widgets/base",
      "model_module_version": "1.2.0",
      "model_name": "LayoutModel",
      "state": {}
     },
     "d92c12d49e14442bb2cc879895f01527": {
      "model_module": "jupyter-matplotlib",
      "model_module_version": "^0.9.0",
      "model_name": "ToolbarModel",
      "state": {
       "layout": "IPY_MODEL_d707f65bb5ae4268bcb7523535955c4f",
       "toolitems": [
        [
         "Home",
         "Reset original view",
         "home",
         "home"
        ],
        [
         "Back",
         "Back to previous view",
         "arrow-left",
         "back"
        ],
        [
         "Forward",
         "Forward to next view",
         "arrow-right",
         "forward"
        ],
        [
         "Pan",
         "Left button pans, Right button zooms\nx/y fixes axis, CTRL fixes aspect",
         "arrows",
         "pan"
        ],
        [
         "Zoom",
         "Zoom to rectangle\nx/y fixes axis, CTRL fixes aspect",
         "square-o",
         "zoom"
        ],
        [
         "Download",
         "Download plot",
         "floppy-o",
         "save_figure"
        ]
       ]
      }
     },
     "d994b0810af44af4bb396c7e8f521c09": {
      "model_module": "@jupyter-widgets/base",
      "model_module_version": "1.2.0",
      "model_name": "LayoutModel",
      "state": {}
     },
     "e3f1c4247b93448c8d56fb61d07eee15": {
      "model_module": "@jupyter-widgets/base",
      "model_module_version": "1.2.0",
      "model_name": "LayoutModel",
      "state": {}
     },
     "f04364a47a8f4367ada1637efac3854d": {
      "model_module": "jupyter-matplotlib",
      "model_module_version": "^0.9.0",
      "model_name": "MPLCanvasModel",
      "state": {
       "_cursor": "default",
       "_figure_label": "Figure 4",
       "_height": 500,
       "_width": 384,
       "layout": "IPY_MODEL_37f9c56333e24769b3ab88b94fa73152",
       "toolbar": "IPY_MODEL_6fc1f59d20bb4c12a01a9e7bebb4cccc",
       "toolbar_position": "left"
      }
     },
     "f5d15d1d0d9d4eda9e1e673eb5739302": {
      "model_module": "jupyter-matplotlib",
      "model_module_version": "^0.9.0",
      "model_name": "ToolbarModel",
      "state": {
       "layout": "IPY_MODEL_d0b26d0d1ae54b54ba2b6dd461bf33b4",
       "toolitems": [
        [
         "Home",
         "Reset original view",
         "home",
         "home"
        ],
        [
         "Back",
         "Back to previous view",
         "arrow-left",
         "back"
        ],
        [
         "Forward",
         "Forward to next view",
         "arrow-right",
         "forward"
        ],
        [
         "Pan",
         "Left button pans, Right button zooms\nx/y fixes axis, CTRL fixes aspect",
         "arrows",
         "pan"
        ],
        [
         "Zoom",
         "Zoom to rectangle\nx/y fixes axis, CTRL fixes aspect",
         "square-o",
         "zoom"
        ],
        [
         "Download",
         "Download plot",
         "floppy-o",
         "save_figure"
        ]
       ]
      }
     },
     "f6e380bdf588448a9ab63701c0ffdecf": {
      "model_module": "@jupyter-widgets/controls",
      "model_module_version": "1.5.0",
      "model_name": "SliderStyleModel",
      "state": {
       "description_width": ""
      }
     },
     "fcfddd810b4c47bfb17e51755eaad1e3": {
      "model_module": "@jupyter-widgets/base",
      "model_module_version": "1.2.0",
      "model_name": "LayoutModel",
      "state": {}
     }
    },
    "version_major": 2,
    "version_minor": 0
   }
  }
 },
 "nbformat": 4,
 "nbformat_minor": 5
}
