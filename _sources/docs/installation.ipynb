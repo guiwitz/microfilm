{
 "cells": [
  {
   "cell_type": "markdown",
   "id": "84dbda2b-0205-47f7-9474-41ba4cc632f9",
   "metadata": {},
   "source": [
    "# Installation"
   ]
  },
  {
   "cell_type": "markdown",
   "id": "e390c125-9f3c-4959-b992-076ebf644ec2",
   "metadata": {},
   "source": [
    "You can install this package directly from Github using: \n",
    "\n",
    "```\n",
    "pip install microfilm\n",
    "```\n",
    "\n",
    "To test the package via the Jupyter interface and the notebooks available [here](notebooks) you can create a conda environment using the [environment.yml](binder/environment.yml) file:\n",
    "\n",
    "```\n",
    "conda env create -f environment.yml\n",
    "```"
   ]
  },
  {
   "cell_type": "code",
   "execution_count": null,
   "id": "69050ba4-a04b-47d4-a8c3-f9a06cb43f07",
   "metadata": {},
   "outputs": [],
   "source": []
  }
 ],
 "metadata": {
  "kernelspec": {
   "display_name": "Python 3",
   "language": "python",
   "name": "python3"
  },
  "language_info": {
   "codemirror_mode": {
    "name": "ipython",
    "version": 3
   },
   "file_extension": ".py",
   "mimetype": "text/x-python",
   "name": "python",
   "nbconvert_exporter": "python",
   "pygments_lexer": "ipython3",
   "version": "3.9.2"
  },
  "widgets": {
   "application/vnd.jupyter.widget-state+json": {
    "state": {},
    "version_major": 2,
    "version_minor": 0
   }
  }
 },
 "nbformat": 4,
 "nbformat_minor": 5
}
