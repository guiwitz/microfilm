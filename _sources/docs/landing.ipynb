{
 "cells": [
  {
   "cell_type": "markdown",
   "id": "aae4c4eb-c45e-43bd-a512-04c7ba677bad",
   "metadata": {},
   "source": [
    "# microfilm\n",
    "\n",
    "```microfilm``` is a Python package meant to help microscopist generate figures with their images, in particular when handling multi-channel and time-lapse images.\n",
    "\n",
    "To find out how to install the software and create your first figures, got the the [Getting started](overview.ipynb) section.\n",
    "\n",
    "If you want to test the package without installing anything click on this button [![Binder](https://mybinder.org/badge_logo.svg)](https://mybinder.org/v2/gh/guiwitz/microfilm/master?urlpath=lab) to open an interactive Jupyter session on Binder. You can start Binder from any page by hovering over the rocket icon (top right) and selecting binder.\n",
    "\n",
    "\n",
    "To find more details on options to create various types of figures and animations you can visit the [Topic guides](../notebooks/create_plots.ipynb).\n",
    "\n",
    "For a full documentation of all functions, visit the [API Reference](source/microfilm.rst).\n",
    "\n",
    "If you find a bug or would like to have an additional features, please use GitHub's issue tracker."
   ]
  },
  {
   "cell_type": "code",
   "execution_count": null,
   "id": "925772f7-94cc-4609-a7fd-12fa3f9b1201",
   "metadata": {},
   "outputs": [],
   "source": []
  }
 ],
 "metadata": {
  "kernelspec": {
   "display_name": "Python 3",
   "language": "python",
   "name": "python3"
  },
  "language_info": {
   "codemirror_mode": {
    "name": "ipython",
    "version": 3
   },
   "file_extension": ".py",
   "mimetype": "text/x-python",
   "name": "python",
   "nbconvert_exporter": "python",
   "pygments_lexer": "ipython3",
   "version": "3.9.2"
  },
  "widgets": {
   "application/vnd.jupyter.widget-state+json": {
    "state": {},
    "version_major": 2,
    "version_minor": 0
   }
  }
 },
 "nbformat": 4,
 "nbformat_minor": 5
}
